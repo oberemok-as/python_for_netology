{
 "cells": [
  {
   "cell_type": "code",
   "execution_count": 1,
   "metadata": {
    "ExecuteTime": {
     "end_time": "2023-11-18T18:37:54.767579900Z",
     "start_time": "2023-11-18T18:37:54.177043900Z"
    }
   },
   "outputs": [],
   "source": [
    "import pandas as pd\n"
   ]
  },
  {
   "cell_type": "markdown",
   "metadata": {},
   "source": [
    "#Задание 1 \\n\n",
    "Датасет для домашнего задания вы найдете в разделе “Материалы к домашнему заданию” (файл “Дополнительные файлы для домашнего задания”) к этому занятию.\n",
    "Определите, какому фильму было выставлено больше всего оценок 5.0."
   ]
  },
  {
   "cell_type": "code",
   "execution_count": 2,
   "metadata": {
    "ExecuteTime": {
     "end_time": "2023-11-18T18:39:23.987165400Z",
     "start_time": "2023-11-18T18:39:21.778678600Z"
    }
   },
   "outputs": [
    {
     "data": {
      "text/plain": "   userId  movieId  rating  timestamp\n0       1        1     4.0  964982703\n1       1        3     4.0  964981247\n2       1        6     4.0  964982224\n3       1       47     5.0  964983815\n4       1       50     5.0  964982931",
      "text/html": "<div>\n<style scoped>\n    .dataframe tbody tr th:only-of-type {\n        vertical-align: middle;\n    }\n\n    .dataframe tbody tr th {\n        vertical-align: top;\n    }\n\n    .dataframe thead th {\n        text-align: right;\n    }\n</style>\n<table border=\"1\" class=\"dataframe\">\n  <thead>\n    <tr style=\"text-align: right;\">\n      <th></th>\n      <th>userId</th>\n      <th>movieId</th>\n      <th>rating</th>\n      <th>timestamp</th>\n    </tr>\n  </thead>\n  <tbody>\n    <tr>\n      <th>0</th>\n      <td>1</td>\n      <td>1</td>\n      <td>4.0</td>\n      <td>964982703</td>\n    </tr>\n    <tr>\n      <th>1</th>\n      <td>1</td>\n      <td>3</td>\n      <td>4.0</td>\n      <td>964981247</td>\n    </tr>\n    <tr>\n      <th>2</th>\n      <td>1</td>\n      <td>6</td>\n      <td>4.0</td>\n      <td>964982224</td>\n    </tr>\n    <tr>\n      <th>3</th>\n      <td>1</td>\n      <td>47</td>\n      <td>5.0</td>\n      <td>964983815</td>\n    </tr>\n    <tr>\n      <th>4</th>\n      <td>1</td>\n      <td>50</td>\n      <td>5.0</td>\n      <td>964982931</td>\n    </tr>\n  </tbody>\n</table>\n</div>"
     },
     "execution_count": 2,
     "metadata": {},
     "output_type": "execute_result"
    }
   ],
   "source": [
    "data = pd.read_csv('https://drive.google.com/uc?id=1BzZZrTCb7xm2t8MLean_bbO5-7cVgyEi') # ratings.csv\n",
    "data.head()"
   ]
  },
  {
   "cell_type": "code",
   "execution_count": 3,
   "metadata": {
    "ExecuteTime": {
     "end_time": "2023-11-18T18:39:33.163026400Z",
     "start_time": "2023-11-18T18:39:31.420597300Z"
    }
   },
   "outputs": [
    {
     "data": {
      "text/plain": "   movieId                               title  \\\n0        1                    Toy Story (1995)   \n1        2                      Jumanji (1995)   \n2        3             Grumpier Old Men (1995)   \n3        4            Waiting to Exhale (1995)   \n4        5  Father of the Bride Part II (1995)   \n\n                                        genres  \n0  Adventure|Animation|Children|Comedy|Fantasy  \n1                   Adventure|Children|Fantasy  \n2                               Comedy|Romance  \n3                         Comedy|Drama|Romance  \n4                                       Comedy  ",
      "text/html": "<div>\n<style scoped>\n    .dataframe tbody tr th:only-of-type {\n        vertical-align: middle;\n    }\n\n    .dataframe tbody tr th {\n        vertical-align: top;\n    }\n\n    .dataframe thead th {\n        text-align: right;\n    }\n</style>\n<table border=\"1\" class=\"dataframe\">\n  <thead>\n    <tr style=\"text-align: right;\">\n      <th></th>\n      <th>movieId</th>\n      <th>title</th>\n      <th>genres</th>\n    </tr>\n  </thead>\n  <tbody>\n    <tr>\n      <th>0</th>\n      <td>1</td>\n      <td>Toy Story (1995)</td>\n      <td>Adventure|Animation|Children|Comedy|Fantasy</td>\n    </tr>\n    <tr>\n      <th>1</th>\n      <td>2</td>\n      <td>Jumanji (1995)</td>\n      <td>Adventure|Children|Fantasy</td>\n    </tr>\n    <tr>\n      <th>2</th>\n      <td>3</td>\n      <td>Grumpier Old Men (1995)</td>\n      <td>Comedy|Romance</td>\n    </tr>\n    <tr>\n      <th>3</th>\n      <td>4</td>\n      <td>Waiting to Exhale (1995)</td>\n      <td>Comedy|Drama|Romance</td>\n    </tr>\n    <tr>\n      <th>4</th>\n      <td>5</td>\n      <td>Father of the Bride Part II (1995)</td>\n      <td>Comedy</td>\n    </tr>\n  </tbody>\n</table>\n</div>"
     },
     "execution_count": 3,
     "metadata": {},
     "output_type": "execute_result"
    }
   ],
   "source": [
    "movies = pd.read_csv('https://drive.google.com/uc?id=1zUBnOeXyz_cKyzkFqlLa6SxVh_7fE6wH') # movies.csv\n",
    "movies.head()\n"
   ]
  },
  {
   "cell_type": "code",
   "execution_count": 4,
   "metadata": {
    "ExecuteTime": {
     "end_time": "2023-11-18T18:39:40.798924400Z",
     "start_time": "2023-11-18T18:39:40.763304300Z"
    }
   },
   "outputs": [
    {
     "name": "stdout",
     "output_type": "stream",
     "text": [
      "Wall time: 17.6 ms\n"
     ]
    }
   ],
   "source": [
    "%%time\n",
    "vyvod = data[ (data['rating']==5.0)].groupby('movieId').count().filter(items = ['movieId', 'rating']).sort_values('rating',ascending=False).head(1)\n",
    "\n"
   ]
  },
  {
   "cell_type": "code",
   "execution_count": 97,
   "metadata": {},
   "outputs": [
    {
     "data": {
      "text/html": [
       "<div>\n",
       "<style scoped>\n",
       "    .dataframe tbody tr th:only-of-type {\n",
       "        vertical-align: middle;\n",
       "    }\n",
       "\n",
       "    .dataframe tbody tr th {\n",
       "        vertical-align: top;\n",
       "    }\n",
       "\n",
       "    .dataframe thead th {\n",
       "        text-align: right;\n",
       "    }\n",
       "</style>\n",
       "<table border=\"1\" class=\"dataframe\">\n",
       "  <thead>\n",
       "    <tr style=\"text-align: right;\">\n",
       "      <th></th>\n",
       "      <th>movieId</th>\n",
       "      <th>rating</th>\n",
       "      <th>title</th>\n",
       "      <th>genres</th>\n",
       "    </tr>\n",
       "  </thead>\n",
       "  <tbody>\n",
       "    <tr>\n",
       "      <th>0</th>\n",
       "      <td>318</td>\n",
       "      <td>153</td>\n",
       "      <td>Shawshank Redemption, The (1994)</td>\n",
       "      <td>Crime|Drama</td>\n",
       "    </tr>\n",
       "  </tbody>\n",
       "</table>\n",
       "</div>"
      ],
      "text/plain": [
       "   movieId  rating                             title       genres\n",
       "0      318     153  Shawshank Redemption, The (1994)  Crime|Drama"
      ]
     },
     "execution_count": 97,
     "metadata": {},
     "output_type": "execute_result"
    }
   ],
   "source": [
    "vyvod.merge(movies, on='movieId').head()"
   ]
  },
  {
   "cell_type": "markdown",
   "metadata": {},
   "source": [
    "#Задание 2 \\n\n",
    "По данным файла power.csv (находится в архиве в разделе Материалы к лекции «Библиотека Pandas» - файл “Дополнительные файлы для домашнего задания”) посчитайте суммарное потребление стран Прибалтики (Латвия, Литва и Эстония) категорий 4, 12 и 21 за период с 2005 по 2010 год. Не учитывайте в расчётах отрицательные значения quantity."
   ]
  },
  {
   "cell_type": "code",
   "execution_count": 7,
   "metadata": {
    "ExecuteTime": {
     "end_time": "2023-11-18T19:48:54.982464500Z",
     "start_time": "2023-11-18T19:48:44.611420400Z"
    }
   },
   "outputs": [
    {
     "data": {
      "text/plain": "   country  year  quantity  category\n0  Austria  1996       5.0         1\n1  Austria  1995      17.0         1\n2  Belgium  2014       0.0         1\n3  Belgium  2013       0.0         1\n4  Belgium  2012      35.0         1",
      "text/html": "<div>\n<style scoped>\n    .dataframe tbody tr th:only-of-type {\n        vertical-align: middle;\n    }\n\n    .dataframe tbody tr th {\n        vertical-align: top;\n    }\n\n    .dataframe thead th {\n        text-align: right;\n    }\n</style>\n<table border=\"1\" class=\"dataframe\">\n  <thead>\n    <tr style=\"text-align: right;\">\n      <th></th>\n      <th>country</th>\n      <th>year</th>\n      <th>quantity</th>\n      <th>category</th>\n    </tr>\n  </thead>\n  <tbody>\n    <tr>\n      <th>0</th>\n      <td>Austria</td>\n      <td>1996</td>\n      <td>5.0</td>\n      <td>1</td>\n    </tr>\n    <tr>\n      <th>1</th>\n      <td>Austria</td>\n      <td>1995</td>\n      <td>17.0</td>\n      <td>1</td>\n    </tr>\n    <tr>\n      <th>2</th>\n      <td>Belgium</td>\n      <td>2014</td>\n      <td>0.0</td>\n      <td>1</td>\n    </tr>\n    <tr>\n      <th>3</th>\n      <td>Belgium</td>\n      <td>2013</td>\n      <td>0.0</td>\n      <td>1</td>\n    </tr>\n    <tr>\n      <th>4</th>\n      <td>Belgium</td>\n      <td>2012</td>\n      <td>35.0</td>\n      <td>1</td>\n    </tr>\n  </tbody>\n</table>\n</div>"
     },
     "execution_count": 7,
     "metadata": {},
     "output_type": "execute_result"
    }
   ],
   "source": [
    "power = pd.read_csv('https://drive.google.com/uc?id=135P-AOXgewgjRt88MaqDAq9Qy_M3Evm9') # power.csv\n",
    "power.head()\n"
   ]
  },
  {
   "cell_type": "code",
   "execution_count": 13,
   "metadata": {
    "ExecuteTime": {
     "end_time": "2023-11-18T19:56:40.710604400Z",
     "start_time": "2023-11-18T19:56:40.634586700Z"
    }
   },
   "outputs": [
    {
     "data": {
      "text/plain": "           quantity\ncountry            \nEstonia     63440.0\nLatvia      54844.0\nLithuania  122296.0",
      "text/html": "<div>\n<style scoped>\n    .dataframe tbody tr th:only-of-type {\n        vertical-align: middle;\n    }\n\n    .dataframe tbody tr th {\n        vertical-align: top;\n    }\n\n    .dataframe thead th {\n        text-align: right;\n    }\n</style>\n<table border=\"1\" class=\"dataframe\">\n  <thead>\n    <tr style=\"text-align: right;\">\n      <th></th>\n      <th>quantity</th>\n    </tr>\n    <tr>\n      <th>country</th>\n      <th></th>\n    </tr>\n  </thead>\n  <tbody>\n    <tr>\n      <th>Estonia</th>\n      <td>63440.0</td>\n    </tr>\n    <tr>\n      <th>Latvia</th>\n      <td>54844.0</td>\n    </tr>\n    <tr>\n      <th>Lithuania</th>\n      <td>122296.0</td>\n    </tr>\n  </tbody>\n</table>\n</div>"
     },
     "execution_count": 13,
     "metadata": {},
     "output_type": "execute_result"
    }
   ],
   "source": [
    "power[ (power['country'].isin(['Latvia', 'Lithuania', 'Estonia'])) & (power['category'].isin([4,12,21])) & (power['year'] >= 2005) & (power['year'] <= 2010) & (power['quantity'] >= 0)].groupby('country').sum('quantity').filter(items = ['country', 'quantity']).head()\n"
   ]
  },
  {
   "cell_type": "markdown",
   "metadata": {},
   "source": [
    "#Задание 3 \\n\n",
    "Выберите страницу любого сайта с табличными данными. Импортируйте таблицы в pandas DataFrame. Вы можете взять любые страницы."
   ]
  },
  {
   "cell_type": "code",
   "execution_count": 99,
   "metadata": {},
   "outputs": [
    {
     "data": {
      "text/html": [
       "<div>\n",
       "<style scoped>\n",
       "    .dataframe tbody tr th:only-of-type {\n",
       "        vertical-align: middle;\n",
       "    }\n",
       "\n",
       "    .dataframe tbody tr th {\n",
       "        vertical-align: top;\n",
       "    }\n",
       "\n",
       "    .dataframe thead th {\n",
       "        text-align: right;\n",
       "    }\n",
       "</style>\n",
       "<table border=\"1\" class=\"dataframe\">\n",
       "  <thead>\n",
       "    <tr style=\"text-align: right;\">\n",
       "      <th></th>\n",
       "      <th>Функция или метод</th>\n",
       "      <th>Назначение</th>\n",
       "    </tr>\n",
       "  </thead>\n",
       "  <tbody>\n",
       "    <tr>\n",
       "      <th>0</th>\n",
       "      <td>S = 'str'; S = \"str\"; S = '''str'''; S = \"\"\"st...</td>\n",
       "      <td>Литералы строк</td>\n",
       "    </tr>\n",
       "    <tr>\n",
       "      <th>1</th>\n",
       "      <td>S = \"s\\np\\ta\\nbbb\"</td>\n",
       "      <td>Экранированные последовательности</td>\n",
       "    </tr>\n",
       "    <tr>\n",
       "      <th>2</th>\n",
       "      <td>S = r\"C:\\temp\\new\"</td>\n",
       "      <td>Неформатированные строки (подавляют экранирова...</td>\n",
       "    </tr>\n",
       "    <tr>\n",
       "      <th>3</th>\n",
       "      <td>S = b\"byte\"</td>\n",
       "      <td>Строка байтов</td>\n",
       "    </tr>\n",
       "    <tr>\n",
       "      <th>4</th>\n",
       "      <td>S1 + S2</td>\n",
       "      <td>Конкатенация (сложение строк)</td>\n",
       "    </tr>\n",
       "    <tr>\n",
       "      <th>5</th>\n",
       "      <td>S1 * 3</td>\n",
       "      <td>Повторение строки</td>\n",
       "    </tr>\n",
       "    <tr>\n",
       "      <th>6</th>\n",
       "      <td>S[i]</td>\n",
       "      <td>Обращение по индексу</td>\n",
       "    </tr>\n",
       "    <tr>\n",
       "      <th>7</th>\n",
       "      <td>S[i:j:step]</td>\n",
       "      <td>Извлечение среза</td>\n",
       "    </tr>\n",
       "    <tr>\n",
       "      <th>8</th>\n",
       "      <td>len(S)</td>\n",
       "      <td>Длина строки</td>\n",
       "    </tr>\n",
       "    <tr>\n",
       "      <th>9</th>\n",
       "      <td>S.find(str, [start],[end])</td>\n",
       "      <td>Поиск подстроки в строке. Возвращает номер пер...</td>\n",
       "    </tr>\n",
       "    <tr>\n",
       "      <th>10</th>\n",
       "      <td>S.rfind(str, [start],[end])</td>\n",
       "      <td>Поиск подстроки в строке. Возвращает номер пос...</td>\n",
       "    </tr>\n",
       "    <tr>\n",
       "      <th>11</th>\n",
       "      <td>S.index(str, [start],[end])</td>\n",
       "      <td>Поиск подстроки в строке. Возвращает номер пер...</td>\n",
       "    </tr>\n",
       "    <tr>\n",
       "      <th>12</th>\n",
       "      <td>S.rindex(str, [start],[end])</td>\n",
       "      <td>Поиск подстроки в строке. Возвращает номер пос...</td>\n",
       "    </tr>\n",
       "    <tr>\n",
       "      <th>13</th>\n",
       "      <td>S.replace(шаблон, замена[, maxcount])</td>\n",
       "      <td>Замена шаблона на замену. maxcount ограничивае...</td>\n",
       "    </tr>\n",
       "    <tr>\n",
       "      <th>14</th>\n",
       "      <td>S.split(символ)</td>\n",
       "      <td>Разбиение строки по разделителю</td>\n",
       "    </tr>\n",
       "    <tr>\n",
       "      <th>15</th>\n",
       "      <td>S.isdigit()</td>\n",
       "      <td>Состоит ли строка из цифр</td>\n",
       "    </tr>\n",
       "    <tr>\n",
       "      <th>16</th>\n",
       "      <td>S.isalpha()</td>\n",
       "      <td>Состоит ли строка из букв</td>\n",
       "    </tr>\n",
       "    <tr>\n",
       "      <th>17</th>\n",
       "      <td>S.isalnum()</td>\n",
       "      <td>Состоит ли строка из цифр или букв</td>\n",
       "    </tr>\n",
       "    <tr>\n",
       "      <th>18</th>\n",
       "      <td>S.islower()</td>\n",
       "      <td>Состоит ли строка из символов в нижнем регистре</td>\n",
       "    </tr>\n",
       "    <tr>\n",
       "      <th>19</th>\n",
       "      <td>S.isupper()</td>\n",
       "      <td>Состоит ли строка из символов в верхнем регистре</td>\n",
       "    </tr>\n",
       "    <tr>\n",
       "      <th>20</th>\n",
       "      <td>S.isspace()</td>\n",
       "      <td>Состоит ли строка из неотображаемых символов (...</td>\n",
       "    </tr>\n",
       "    <tr>\n",
       "      <th>21</th>\n",
       "      <td>S.istitle()</td>\n",
       "      <td>Начинаются ли слова в строке с заглавной буквы</td>\n",
       "    </tr>\n",
       "    <tr>\n",
       "      <th>22</th>\n",
       "      <td>S.upper()</td>\n",
       "      <td>Преобразование строки к верхнему регистру</td>\n",
       "    </tr>\n",
       "    <tr>\n",
       "      <th>23</th>\n",
       "      <td>S.lower()</td>\n",
       "      <td>Преобразование строки к нижнему регистру</td>\n",
       "    </tr>\n",
       "    <tr>\n",
       "      <th>24</th>\n",
       "      <td>S.startswith(str)</td>\n",
       "      <td>Начинается ли строка S с шаблона str</td>\n",
       "    </tr>\n",
       "    <tr>\n",
       "      <th>25</th>\n",
       "      <td>S.endswith(str)</td>\n",
       "      <td>Заканчивается ли строка S шаблоном str</td>\n",
       "    </tr>\n",
       "    <tr>\n",
       "      <th>26</th>\n",
       "      <td>S.join(список)</td>\n",
       "      <td>Сборка строки из списка с разделителем S</td>\n",
       "    </tr>\n",
       "    <tr>\n",
       "      <th>27</th>\n",
       "      <td>ord(символ)</td>\n",
       "      <td>Символ в его код ASCII</td>\n",
       "    </tr>\n",
       "    <tr>\n",
       "      <th>28</th>\n",
       "      <td>chr(число)</td>\n",
       "      <td>Код ASCII в символ</td>\n",
       "    </tr>\n",
       "    <tr>\n",
       "      <th>29</th>\n",
       "      <td>S.capitalize()</td>\n",
       "      <td>Переводит первый символ строки в верхний регис...</td>\n",
       "    </tr>\n",
       "    <tr>\n",
       "      <th>30</th>\n",
       "      <td>S.center(width, [fill])</td>\n",
       "      <td>Возвращает отцентрованную строку, по краям кот...</td>\n",
       "    </tr>\n",
       "    <tr>\n",
       "      <th>31</th>\n",
       "      <td>S.count(str, [start],[end])</td>\n",
       "      <td>Возвращает количество непересекающихся вхожден...</td>\n",
       "    </tr>\n",
       "    <tr>\n",
       "      <th>32</th>\n",
       "      <td>S.expandtabs([tabsize])</td>\n",
       "      <td>Возвращает копию строки, в которой все символы...</td>\n",
       "    </tr>\n",
       "    <tr>\n",
       "      <th>33</th>\n",
       "      <td>S.lstrip([chars])</td>\n",
       "      <td>Удаление пробельных символов в начале строки</td>\n",
       "    </tr>\n",
       "    <tr>\n",
       "      <th>34</th>\n",
       "      <td>S.rstrip([chars])</td>\n",
       "      <td>Удаление пробельных символов в конце строки</td>\n",
       "    </tr>\n",
       "    <tr>\n",
       "      <th>35</th>\n",
       "      <td>S.strip([chars])</td>\n",
       "      <td>Удаление пробельных символов в начале и в конц...</td>\n",
       "    </tr>\n",
       "    <tr>\n",
       "      <th>36</th>\n",
       "      <td>S.partition(шаблон)</td>\n",
       "      <td>Возвращает кортеж, содержащий часть перед перв...</td>\n",
       "    </tr>\n",
       "    <tr>\n",
       "      <th>37</th>\n",
       "      <td>S.rpartition(sep)</td>\n",
       "      <td>Возвращает кортеж, содержащий часть перед посл...</td>\n",
       "    </tr>\n",
       "    <tr>\n",
       "      <th>38</th>\n",
       "      <td>S.swapcase()</td>\n",
       "      <td>Переводит символы нижнего регистра в верхний, ...</td>\n",
       "    </tr>\n",
       "    <tr>\n",
       "      <th>39</th>\n",
       "      <td>S.title()</td>\n",
       "      <td>Первую букву каждого слова переводит в верхний...</td>\n",
       "    </tr>\n",
       "    <tr>\n",
       "      <th>40</th>\n",
       "      <td>S.zfill(width)</td>\n",
       "      <td>Делает длину строки не меньшей width, по необх...</td>\n",
       "    </tr>\n",
       "    <tr>\n",
       "      <th>41</th>\n",
       "      <td>S.ljust(width, fillchar=\" \")</td>\n",
       "      <td>Делает длину строки не меньшей width, по необх...</td>\n",
       "    </tr>\n",
       "    <tr>\n",
       "      <th>42</th>\n",
       "      <td>S.rjust(width, fillchar=\" \")</td>\n",
       "      <td>Делает длину строки не меньшей width, по необх...</td>\n",
       "    </tr>\n",
       "    <tr>\n",
       "      <th>43</th>\n",
       "      <td>S.format(*args, **kwargs)</td>\n",
       "      <td>Форматирование строки</td>\n",
       "    </tr>\n",
       "  </tbody>\n",
       "</table>\n",
       "</div>"
      ],
      "text/plain": [
       "                                    Функция или метод  \\\n",
       "0   S = 'str'; S = \"str\"; S = '''str'''; S = \"\"\"st...   \n",
       "1                                  S = \"s\\np\\ta\\nbbb\"   \n",
       "2                                  S = r\"C:\\temp\\new\"   \n",
       "3                                         S = b\"byte\"   \n",
       "4                                             S1 + S2   \n",
       "5                                              S1 * 3   \n",
       "6                                                S[i]   \n",
       "7                                         S[i:j:step]   \n",
       "8                                              len(S)   \n",
       "9                          S.find(str, [start],[end])   \n",
       "10                        S.rfind(str, [start],[end])   \n",
       "11                        S.index(str, [start],[end])   \n",
       "12                       S.rindex(str, [start],[end])   \n",
       "13              S.replace(шаблон, замена[, maxcount])   \n",
       "14                                    S.split(символ)   \n",
       "15                                        S.isdigit()   \n",
       "16                                        S.isalpha()   \n",
       "17                                        S.isalnum()   \n",
       "18                                        S.islower()   \n",
       "19                                        S.isupper()   \n",
       "20                                        S.isspace()   \n",
       "21                                        S.istitle()   \n",
       "22                                          S.upper()   \n",
       "23                                          S.lower()   \n",
       "24                                  S.startswith(str)   \n",
       "25                                    S.endswith(str)   \n",
       "26                                     S.join(список)   \n",
       "27                                        ord(символ)   \n",
       "28                                         chr(число)   \n",
       "29                                     S.capitalize()   \n",
       "30                            S.center(width, [fill])   \n",
       "31                        S.count(str, [start],[end])   \n",
       "32                            S.expandtabs([tabsize])   \n",
       "33                                  S.lstrip([chars])   \n",
       "34                                  S.rstrip([chars])   \n",
       "35                                   S.strip([chars])   \n",
       "36                                S.partition(шаблон)   \n",
       "37                                  S.rpartition(sep)   \n",
       "38                                       S.swapcase()   \n",
       "39                                          S.title()   \n",
       "40                                     S.zfill(width)   \n",
       "41                       S.ljust(width, fillchar=\" \")   \n",
       "42                       S.rjust(width, fillchar=\" \")   \n",
       "43                          S.format(*args, **kwargs)   \n",
       "\n",
       "                                           Назначение  \n",
       "0                                      Литералы строк  \n",
       "1                   Экранированные последовательности  \n",
       "2   Неформатированные строки (подавляют экранирова...  \n",
       "3                                       Строка байтов  \n",
       "4                       Конкатенация (сложение строк)  \n",
       "5                                   Повторение строки  \n",
       "6                                Обращение по индексу  \n",
       "7                                    Извлечение среза  \n",
       "8                                        Длина строки  \n",
       "9   Поиск подстроки в строке. Возвращает номер пер...  \n",
       "10  Поиск подстроки в строке. Возвращает номер пос...  \n",
       "11  Поиск подстроки в строке. Возвращает номер пер...  \n",
       "12  Поиск подстроки в строке. Возвращает номер пос...  \n",
       "13  Замена шаблона на замену. maxcount ограничивае...  \n",
       "14                    Разбиение строки по разделителю  \n",
       "15                          Состоит ли строка из цифр  \n",
       "16                          Состоит ли строка из букв  \n",
       "17                 Состоит ли строка из цифр или букв  \n",
       "18    Состоит ли строка из символов в нижнем регистре  \n",
       "19   Состоит ли строка из символов в верхнем регистре  \n",
       "20  Состоит ли строка из неотображаемых символов (...  \n",
       "21     Начинаются ли слова в строке с заглавной буквы  \n",
       "22          Преобразование строки к верхнему регистру  \n",
       "23           Преобразование строки к нижнему регистру  \n",
       "24               Начинается ли строка S с шаблона str  \n",
       "25             Заканчивается ли строка S шаблоном str  \n",
       "26           Сборка строки из списка с разделителем S  \n",
       "27                             Символ в его код ASCII  \n",
       "28                                 Код ASCII в символ  \n",
       "29  Переводит первый символ строки в верхний регис...  \n",
       "30  Возвращает отцентрованную строку, по краям кот...  \n",
       "31  Возвращает количество непересекающихся вхожден...  \n",
       "32  Возвращает копию строки, в которой все символы...  \n",
       "33       Удаление пробельных символов в начале строки  \n",
       "34        Удаление пробельных символов в конце строки  \n",
       "35  Удаление пробельных символов в начале и в конц...  \n",
       "36  Возвращает кортеж, содержащий часть перед перв...  \n",
       "37  Возвращает кортеж, содержащий часть перед посл...  \n",
       "38  Переводит символы нижнего регистра в верхний, ...  \n",
       "39  Первую букву каждого слова переводит в верхний...  \n",
       "40  Делает длину строки не меньшей width, по необх...  \n",
       "41  Делает длину строки не меньшей width, по необх...  \n",
       "42  Делает длину строки не меньшей width, по необх...  \n",
       "43                              Форматирование строки  "
      ]
     },
     "execution_count": 99,
     "metadata": {},
     "output_type": "execute_result"
    }
   ],
   "source": [
    "table_url = pd.read_html('https://pythonworld.ru/tipy-dannyx-v-python/stroki-funkcii-i-metody-strok.html')[0]\n",
    "table_url"
   ]
  },
  {
   "cell_type": "code",
   "execution_count": 47,
   "metadata": {},
   "outputs": [
    {
     "data": {
      "text/plain": [
       "pandas.core.frame.DataFrame"
      ]
     },
     "execution_count": 47,
     "metadata": {},
     "output_type": "execute_result"
    }
   ],
   "source": [
    "type(table_url)"
   ]
  }
 ],
 "metadata": {
  "kernelspec": {
   "display_name": "base",
   "language": "python",
   "name": "python3"
  },
  "language_info": {
   "codemirror_mode": {
    "name": "ipython",
    "version": 3
   },
   "file_extension": ".py",
   "mimetype": "text/x-python",
   "name": "python",
   "nbconvert_exporter": "python",
   "pygments_lexer": "ipython3",
   "version": "3.9.7"
  }
 },
 "nbformat": 4,
 "nbformat_minor": 2
}
