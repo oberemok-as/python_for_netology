{
 "cells": [
  {
   "cell_type": "markdown",
   "source": [
    "Задание 1\n",
    "https://netology.ru/profile/program/numpy-50/lessons/322143/lesson_items/1742493"
   ],
   "metadata": {
    "collapsed": false
   },
   "id": "140fa86f8a69774f"
  },
  {
   "cell_type": "code",
   "execution_count": 1,
   "outputs": [],
   "source": [
    "import pandas as pd"
   ],
   "metadata": {
    "collapsed": false,
    "ExecuteTime": {
     "end_time": "2023-11-19T20:56:06.717073Z",
     "start_time": "2023-11-19T20:56:05.392012100Z"
    }
   },
   "id": "d6d526c27c89b88f"
  },
  {
   "cell_type": "code",
   "execution_count": 34,
   "outputs": [],
   "source": [
    "df = pd.read_csv('Лекция Функции и работа с данными/ml-latest-small/ratings.csv') "
   ],
   "metadata": {
    "collapsed": false,
    "ExecuteTime": {
     "end_time": "2023-11-19T21:37:06.199981300Z",
     "start_time": "2023-11-19T21:37:06.093111700Z"
    }
   },
   "id": "c88b9e9f179031a3"
  },
  {
   "cell_type": "code",
   "execution_count": 35,
   "outputs": [],
   "source": [
    "def film_classification(param):\n",
    "    if param <=2:\n",
    "        return 'низкий рейтинг'\n",
    "    elif param <= 4:\n",
    "        return 'средний рейтинг'\n",
    "    elif param == 4.5 or param == 5.0:\n",
    "        return 'высокий рейтинг'\n",
    "    \n",
    "    \n",
    "\n",
    "\n",
    "df['class'] = df['rating'].apply(film_classification)"
   ],
   "metadata": {
    "collapsed": false,
    "ExecuteTime": {
     "end_time": "2023-11-19T21:37:07.968884600Z",
     "start_time": "2023-11-19T21:37:07.912870500Z"
    }
   },
   "id": "d9ff932831acc28e"
  },
  {
   "cell_type": "code",
   "execution_count": 36,
   "outputs": [
    {
     "data": {
      "text/plain": "        userId  movieId  rating   timestamp            class\n0            1       31     2.5  1260759144  средний рейтинг\n1            1     1029     3.0  1260759179  средний рейтинг\n2            1     1061     3.0  1260759182  средний рейтинг\n3            1     1129     2.0  1260759185   низкий рейтинг\n4            1     1172     4.0  1260759205  средний рейтинг\n...        ...      ...     ...         ...              ...\n99999      671     6268     2.5  1065579370  средний рейтинг\n100000     671     6269     4.0  1065149201  средний рейтинг\n100001     671     6365     4.0  1070940363  средний рейтинг\n100002     671     6385     2.5  1070979663  средний рейтинг\n100003     671     6565     3.5  1074784724  средний рейтинг\n\n[100004 rows x 5 columns]",
      "text/html": "<div>\n<style scoped>\n    .dataframe tbody tr th:only-of-type {\n        vertical-align: middle;\n    }\n\n    .dataframe tbody tr th {\n        vertical-align: top;\n    }\n\n    .dataframe thead th {\n        text-align: right;\n    }\n</style>\n<table border=\"1\" class=\"dataframe\">\n  <thead>\n    <tr style=\"text-align: right;\">\n      <th></th>\n      <th>userId</th>\n      <th>movieId</th>\n      <th>rating</th>\n      <th>timestamp</th>\n      <th>class</th>\n    </tr>\n  </thead>\n  <tbody>\n    <tr>\n      <th>0</th>\n      <td>1</td>\n      <td>31</td>\n      <td>2.5</td>\n      <td>1260759144</td>\n      <td>средний рейтинг</td>\n    </tr>\n    <tr>\n      <th>1</th>\n      <td>1</td>\n      <td>1029</td>\n      <td>3.0</td>\n      <td>1260759179</td>\n      <td>средний рейтинг</td>\n    </tr>\n    <tr>\n      <th>2</th>\n      <td>1</td>\n      <td>1061</td>\n      <td>3.0</td>\n      <td>1260759182</td>\n      <td>средний рейтинг</td>\n    </tr>\n    <tr>\n      <th>3</th>\n      <td>1</td>\n      <td>1129</td>\n      <td>2.0</td>\n      <td>1260759185</td>\n      <td>низкий рейтинг</td>\n    </tr>\n    <tr>\n      <th>4</th>\n      <td>1</td>\n      <td>1172</td>\n      <td>4.0</td>\n      <td>1260759205</td>\n      <td>средний рейтинг</td>\n    </tr>\n    <tr>\n      <th>...</th>\n      <td>...</td>\n      <td>...</td>\n      <td>...</td>\n      <td>...</td>\n      <td>...</td>\n    </tr>\n    <tr>\n      <th>99999</th>\n      <td>671</td>\n      <td>6268</td>\n      <td>2.5</td>\n      <td>1065579370</td>\n      <td>средний рейтинг</td>\n    </tr>\n    <tr>\n      <th>100000</th>\n      <td>671</td>\n      <td>6269</td>\n      <td>4.0</td>\n      <td>1065149201</td>\n      <td>средний рейтинг</td>\n    </tr>\n    <tr>\n      <th>100001</th>\n      <td>671</td>\n      <td>6365</td>\n      <td>4.0</td>\n      <td>1070940363</td>\n      <td>средний рейтинг</td>\n    </tr>\n    <tr>\n      <th>100002</th>\n      <td>671</td>\n      <td>6385</td>\n      <td>2.5</td>\n      <td>1070979663</td>\n      <td>средний рейтинг</td>\n    </tr>\n    <tr>\n      <th>100003</th>\n      <td>671</td>\n      <td>6565</td>\n      <td>3.5</td>\n      <td>1074784724</td>\n      <td>средний рейтинг</td>\n    </tr>\n  </tbody>\n</table>\n<p>100004 rows × 5 columns</p>\n</div>"
     },
     "execution_count": 36,
     "metadata": {},
     "output_type": "execute_result"
    }
   ],
   "source": [
    "df"
   ],
   "metadata": {
    "collapsed": false,
    "ExecuteTime": {
     "end_time": "2023-11-19T21:37:10.942299900Z",
     "start_time": "2023-11-19T21:37:10.901361900Z"
    }
   },
   "id": "b24c21459f1c9fc8"
  },
  {
   "cell_type": "markdown",
   "source": [
    "Задание 2\n",
    "https://netology.ru/profile/program/numpy-50/lessons/322143/lesson_items/1742493\n"
   ],
   "metadata": {
    "collapsed": false
   },
   "id": "a09424d8a31ed276"
  },
  {
   "cell_type": "code",
   "execution_count": 37,
   "outputs": [],
   "source": [
    "keywords = pd.read_csv('Лекция Функции и работа с данными/ml-latest-small/keywords.csv') "
   ],
   "metadata": {
    "collapsed": false,
    "ExecuteTime": {
     "end_time": "2023-11-19T21:38:22.358597400Z",
     "start_time": "2023-11-19T21:38:22.130686600Z"
    }
   },
   "id": "99b6c4d9fb7885c7"
  },
  {
   "cell_type": "code",
   "execution_count": 65,
   "outputs": [],
   "source": [
    "def geo_classifier(word):\n",
    "    for region, cities in geo_data.items():\n",
    "        if word in cities:\n",
    "            return region\n",
    "        else:\n",
    "            return 'undefined'"
   ],
   "metadata": {
    "collapsed": false,
    "ExecuteTime": {
     "end_time": "2023-11-19T22:10:53.561505400Z",
     "start_time": "2023-11-19T22:10:53.557505500Z"
    }
   },
   "id": "5bc25cc10a28673f"
  },
  {
   "cell_type": "code",
   "execution_count": 38,
   "outputs": [],
   "source": [
    "geo_data = {\n",
    "'Центр': ['москва', 'тула', 'ярославль'],\n",
    "\n",
    "'Северо-Запад': ['петербург', 'псков', 'мурманск'],\n",
    "\n",
    "'Дальний Восток': ['владивосток', 'сахалин', 'хабаровск']\n",
    "}"
   ],
   "metadata": {
    "collapsed": false,
    "ExecuteTime": {
     "end_time": "2023-11-19T21:45:13.028928800Z",
     "start_time": "2023-11-19T21:45:12.996915100Z"
    }
   },
   "id": "c808b24e110d5038"
  },
  {
   "cell_type": "code",
   "execution_count": 66,
   "outputs": [],
   "source": [
    "keywords['region'] = keywords['keyword'].apply(geo_classifier)"
   ],
   "metadata": {
    "collapsed": false,
    "ExecuteTime": {
     "end_time": "2023-11-19T22:10:56.188523200Z",
     "start_time": "2023-11-19T22:10:56.149514700Z"
    }
   },
   "id": "1b12134692e8c3dd"
  },
  {
   "cell_type": "code",
   "execution_count": 67,
   "outputs": [
    {
     "data": {
      "text/plain": "                              keyword   shows     region\n1259                           москва  153050      Центр\n1260                         прибытие  152972  undefined\n1261                             лайф  152878  undefined\n1262   28 панфиловцев смотреть онлайн  161658  undefined\n1263                           хендай  152324  undefined\n...                               ...     ...        ...\n99995          эльдорадо старый оскол    3705  undefined\n99996             frigate для firefox    3630  undefined\n99997                          укрсиб    3630  undefined\n99998         погода в ялте на неделю    3688  undefined\n99999                            ггму    3630  undefined\n\n[98741 rows x 3 columns]",
      "text/html": "<div>\n<style scoped>\n    .dataframe tbody tr th:only-of-type {\n        vertical-align: middle;\n    }\n\n    .dataframe tbody tr th {\n        vertical-align: top;\n    }\n\n    .dataframe thead th {\n        text-align: right;\n    }\n</style>\n<table border=\"1\" class=\"dataframe\">\n  <thead>\n    <tr style=\"text-align: right;\">\n      <th></th>\n      <th>keyword</th>\n      <th>shows</th>\n      <th>region</th>\n    </tr>\n  </thead>\n  <tbody>\n    <tr>\n      <th>1259</th>\n      <td>москва</td>\n      <td>153050</td>\n      <td>Центр</td>\n    </tr>\n    <tr>\n      <th>1260</th>\n      <td>прибытие</td>\n      <td>152972</td>\n      <td>undefined</td>\n    </tr>\n    <tr>\n      <th>1261</th>\n      <td>лайф</td>\n      <td>152878</td>\n      <td>undefined</td>\n    </tr>\n    <tr>\n      <th>1262</th>\n      <td>28 панфиловцев смотреть онлайн</td>\n      <td>161658</td>\n      <td>undefined</td>\n    </tr>\n    <tr>\n      <th>1263</th>\n      <td>хендай</td>\n      <td>152324</td>\n      <td>undefined</td>\n    </tr>\n    <tr>\n      <th>...</th>\n      <td>...</td>\n      <td>...</td>\n      <td>...</td>\n    </tr>\n    <tr>\n      <th>99995</th>\n      <td>эльдорадо старый оскол</td>\n      <td>3705</td>\n      <td>undefined</td>\n    </tr>\n    <tr>\n      <th>99996</th>\n      <td>frigate для firefox</td>\n      <td>3630</td>\n      <td>undefined</td>\n    </tr>\n    <tr>\n      <th>99997</th>\n      <td>укрсиб</td>\n      <td>3630</td>\n      <td>undefined</td>\n    </tr>\n    <tr>\n      <th>99998</th>\n      <td>погода в ялте на неделю</td>\n      <td>3688</td>\n      <td>undefined</td>\n    </tr>\n    <tr>\n      <th>99999</th>\n      <td>ггму</td>\n      <td>3630</td>\n      <td>undefined</td>\n    </tr>\n  </tbody>\n</table>\n<p>98741 rows × 3 columns</p>\n</div>"
     },
     "execution_count": 67,
     "metadata": {},
     "output_type": "execute_result"
    }
   ],
   "source": [
    "keywords[1259:]"
   ],
   "metadata": {
    "collapsed": false,
    "ExecuteTime": {
     "end_time": "2023-11-19T22:10:57.927511900Z",
     "start_time": "2023-11-19T22:10:57.916510800Z"
    }
   },
   "id": "a718d058b8df4d4"
  },
  {
   "cell_type": "markdown",
   "source": [
    "Задание 3 (бонусное)\n",
    "https://netology.ru/profile/program/numpy-50/lessons/322143/lesson_items/1742493"
   ],
   "metadata": {
    "collapsed": false
   },
   "id": "c35f0e41bc07bbb5"
  },
  {
   "cell_type": "code",
   "execution_count": 78,
   "outputs": [],
   "source": [
    "movies = pd.read_csv('Лекция Функции и работа с данными/ml-latest-small/movies.csv') "
   ],
   "metadata": {
    "collapsed": false,
    "ExecuteTime": {
     "end_time": "2023-11-19T22:34:47.467576700Z",
     "start_time": "2023-11-19T22:34:47.451559100Z"
    }
   },
   "id": "c6c5fae7bd18d321"
  },
  {
   "cell_type": "code",
   "execution_count": 69,
   "outputs": [],
   "source": [
    "ratings = pd.read_csv('Лекция Функции и работа с данными/ml-latest-small/ratings.csv') "
   ],
   "metadata": {
    "collapsed": false,
    "ExecuteTime": {
     "end_time": "2023-11-19T22:15:39.109688100Z",
     "start_time": "2023-11-19T22:15:39.066685100Z"
    }
   },
   "id": "928803c9ccc5703e"
  },
  {
   "cell_type": "code",
   "execution_count": 75,
   "outputs": [],
   "source": [
    "years = range(1950,2011)"
   ],
   "metadata": {
    "collapsed": false,
    "ExecuteTime": {
     "end_time": "2023-11-19T22:27:14.737209900Z",
     "start_time": "2023-11-19T22:27:14.729207900Z"
    }
   },
   "id": "5abc988f5be2e141"
  },
  {
   "cell_type": "code",
   "execution_count": 101,
   "outputs": [],
   "source": [
    "def production_year(film_name):\n",
    "    for year in years:\n",
    "        if str(year) in film_name:\n",
    "            return year\n",
    "    else:\n",
    "        return 1900\n",
    "    "
   ],
   "metadata": {
    "collapsed": false,
    "ExecuteTime": {
     "end_time": "2023-11-19T22:56:56.464452200Z",
     "start_time": "2023-11-19T22:56:56.443440600Z"
    }
   },
   "id": "96fa4a9a407b6326"
  },
  {
   "cell_type": "code",
   "execution_count": null,
   "outputs": [],
   "source": [
    "df = pd.DataFrame({'movieId': [1], 'title': ['фильм (1995)'], 'orders': [2, 4, 0], 'calculated': [False, False, True]})"
   ],
   "metadata": {
    "collapsed": false
   },
   "id": "214682886373e98e"
  },
  {
   "cell_type": "code",
   "execution_count": 102,
   "outputs": [],
   "source": [
    "movies['year'] = movies['title'].apply(production_year)"
   ],
   "metadata": {
    "collapsed": false,
    "ExecuteTime": {
     "end_time": "2023-11-19T22:56:59.964184Z",
     "start_time": "2023-11-19T22:56:59.887166100Z"
    }
   },
   "id": "2da2c07ea468992a"
  },
  {
   "cell_type": "code",
   "execution_count": 103,
   "outputs": [
    {
     "data": {
      "text/plain": "      movieId                                              title  \\\n0           1                                   Toy Story (1995)   \n1           2                                     Jumanji (1995)   \n2           3                            Grumpier Old Men (1995)   \n3           4                           Waiting to Exhale (1995)   \n4           5                 Father of the Bride Part II (1995)   \n...       ...                                                ...   \n9120   162672                                Mohenjo Daro (2016)   \n9121   163056                               Shin Godzilla (2016)   \n9122   163949  The Beatles: Eight Days a Week - The Touring Y...   \n9123   164977                           The Gay Desperado (1936)   \n9124   164979                              Women of '69, Unboxed   \n\n                                           genres  year  \n0     Adventure|Animation|Children|Comedy|Fantasy  1995  \n1                      Adventure|Children|Fantasy  1995  \n2                                  Comedy|Romance  1995  \n3                            Comedy|Drama|Romance  1995  \n4                                          Comedy  1995  \n...                                           ...   ...  \n9120                      Adventure|Drama|Romance  1900  \n9121              Action|Adventure|Fantasy|Sci-Fi  1900  \n9122                                  Documentary  1900  \n9123                                       Comedy  1900  \n9124                                  Documentary  1900  \n\n[9125 rows x 4 columns]",
      "text/html": "<div>\n<style scoped>\n    .dataframe tbody tr th:only-of-type {\n        vertical-align: middle;\n    }\n\n    .dataframe tbody tr th {\n        vertical-align: top;\n    }\n\n    .dataframe thead th {\n        text-align: right;\n    }\n</style>\n<table border=\"1\" class=\"dataframe\">\n  <thead>\n    <tr style=\"text-align: right;\">\n      <th></th>\n      <th>movieId</th>\n      <th>title</th>\n      <th>genres</th>\n      <th>year</th>\n    </tr>\n  </thead>\n  <tbody>\n    <tr>\n      <th>0</th>\n      <td>1</td>\n      <td>Toy Story (1995)</td>\n      <td>Adventure|Animation|Children|Comedy|Fantasy</td>\n      <td>1995</td>\n    </tr>\n    <tr>\n      <th>1</th>\n      <td>2</td>\n      <td>Jumanji (1995)</td>\n      <td>Adventure|Children|Fantasy</td>\n      <td>1995</td>\n    </tr>\n    <tr>\n      <th>2</th>\n      <td>3</td>\n      <td>Grumpier Old Men (1995)</td>\n      <td>Comedy|Romance</td>\n      <td>1995</td>\n    </tr>\n    <tr>\n      <th>3</th>\n      <td>4</td>\n      <td>Waiting to Exhale (1995)</td>\n      <td>Comedy|Drama|Romance</td>\n      <td>1995</td>\n    </tr>\n    <tr>\n      <th>4</th>\n      <td>5</td>\n      <td>Father of the Bride Part II (1995)</td>\n      <td>Comedy</td>\n      <td>1995</td>\n    </tr>\n    <tr>\n      <th>...</th>\n      <td>...</td>\n      <td>...</td>\n      <td>...</td>\n      <td>...</td>\n    </tr>\n    <tr>\n      <th>9120</th>\n      <td>162672</td>\n      <td>Mohenjo Daro (2016)</td>\n      <td>Adventure|Drama|Romance</td>\n      <td>1900</td>\n    </tr>\n    <tr>\n      <th>9121</th>\n      <td>163056</td>\n      <td>Shin Godzilla (2016)</td>\n      <td>Action|Adventure|Fantasy|Sci-Fi</td>\n      <td>1900</td>\n    </tr>\n    <tr>\n      <th>9122</th>\n      <td>163949</td>\n      <td>The Beatles: Eight Days a Week - The Touring Y...</td>\n      <td>Documentary</td>\n      <td>1900</td>\n    </tr>\n    <tr>\n      <th>9123</th>\n      <td>164977</td>\n      <td>The Gay Desperado (1936)</td>\n      <td>Comedy</td>\n      <td>1900</td>\n    </tr>\n    <tr>\n      <th>9124</th>\n      <td>164979</td>\n      <td>Women of '69, Unboxed</td>\n      <td>Documentary</td>\n      <td>1900</td>\n    </tr>\n  </tbody>\n</table>\n<p>9125 rows × 4 columns</p>\n</div>"
     },
     "execution_count": 103,
     "metadata": {},
     "output_type": "execute_result"
    }
   ],
   "source": [
    "movies\n"
   ],
   "metadata": {
    "collapsed": false,
    "ExecuteTime": {
     "end_time": "2023-11-19T22:57:04.564309700Z",
     "start_time": "2023-11-19T22:57:04.553293Z"
    }
   },
   "id": "4808ec905e6dadb7"
  },
  {
   "cell_type": "code",
   "execution_count": 110,
   "outputs": [
    {
     "data": {
      "text/plain": "        rating\nyear          \n1957  4.014241\n1972  4.011136\n1952  4.000000\n1954  3.994220\n1951  3.983539\n...        ...\n2005  3.448434\n2003  3.444777\n1996  3.426600\n1997  3.415764\n2000  3.356104\n\n[62 rows x 1 columns]",
      "text/html": "<div>\n<style scoped>\n    .dataframe tbody tr th:only-of-type {\n        vertical-align: middle;\n    }\n\n    .dataframe tbody tr th {\n        vertical-align: top;\n    }\n\n    .dataframe thead th {\n        text-align: right;\n    }\n</style>\n<table border=\"1\" class=\"dataframe\">\n  <thead>\n    <tr style=\"text-align: right;\">\n      <th></th>\n      <th>rating</th>\n    </tr>\n    <tr>\n      <th>year</th>\n      <th></th>\n    </tr>\n  </thead>\n  <tbody>\n    <tr>\n      <th>1957</th>\n      <td>4.014241</td>\n    </tr>\n    <tr>\n      <th>1972</th>\n      <td>4.011136</td>\n    </tr>\n    <tr>\n      <th>1952</th>\n      <td>4.000000</td>\n    </tr>\n    <tr>\n      <th>1954</th>\n      <td>3.994220</td>\n    </tr>\n    <tr>\n      <th>1951</th>\n      <td>3.983539</td>\n    </tr>\n    <tr>\n      <th>...</th>\n      <td>...</td>\n    </tr>\n    <tr>\n      <th>2005</th>\n      <td>3.448434</td>\n    </tr>\n    <tr>\n      <th>2003</th>\n      <td>3.444777</td>\n    </tr>\n    <tr>\n      <th>1996</th>\n      <td>3.426600</td>\n    </tr>\n    <tr>\n      <th>1997</th>\n      <td>3.415764</td>\n    </tr>\n    <tr>\n      <th>2000</th>\n      <td>3.356104</td>\n    </tr>\n  </tbody>\n</table>\n<p>62 rows × 1 columns</p>\n</div>"
     },
     "execution_count": 110,
     "metadata": {},
     "output_type": "execute_result"
    }
   ],
   "source": [
    "# Посчитайте средний рейтинг всех фильмов для каждого значения столбца ‘year’ и отсортируйте результат по убыванию рейтинга.\n",
    "movies.merge(ratings, on='movieId').groupby('year').mean().sort_values('rating',ascending=False).filter(items = ['year', 'rating']) "
   ],
   "metadata": {
    "collapsed": false,
    "ExecuteTime": {
     "end_time": "2023-11-19T23:16:54.533787100Z",
     "start_time": "2023-11-19T23:16:54.482948700Z"
    }
   },
   "id": "65673a0e14eb7792"
  }
 ],
 "metadata": {
  "kernelspec": {
   "display_name": "Python 3",
   "language": "python",
   "name": "python3"
  },
  "language_info": {
   "codemirror_mode": {
    "name": "ipython",
    "version": 2
   },
   "file_extension": ".py",
   "mimetype": "text/x-python",
   "name": "python",
   "nbconvert_exporter": "python",
   "pygments_lexer": "ipython2",
   "version": "2.7.6"
  }
 },
 "nbformat": 4,
 "nbformat_minor": 5
}
