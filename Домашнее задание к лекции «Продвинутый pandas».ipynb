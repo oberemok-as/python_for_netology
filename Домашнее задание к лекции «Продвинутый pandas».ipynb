{
 "cells": [
  {
   "cell_type": "markdown",
   "source": [
    "Задание 1\n",
    "Для датафрейма log из материалов занятия создайте столбец source_type по правилам:\n",
    "\n",
    "если источник traffic_source равен Yandex или Google, то в source_type ставится organic;\n",
    "для источников paid и email из России ставим ad;\n",
    "для источников paid и email не из России ставим other;\n",
    "все остальные варианты берём из traffic_source без изменений."
   ],
   "metadata": {
    "collapsed": false
   },
   "id": "38f1728e7a3cccf2"
  },
  {
   "cell_type": "code",
   "execution_count": 42,
   "outputs": [],
   "source": [
    "import pandas as pd"
   ],
   "metadata": {
    "collapsed": false,
    "ExecuteTime": {
     "end_time": "2023-12-03T09:47:06.893038400Z",
     "start_time": "2023-12-03T09:47:06.883017400Z"
    }
   },
   "id": "3da2aaa50f9ca419"
  },
  {
   "cell_type": "code",
   "execution_count": 88,
   "outputs": [
    {
     "data": {
      "text/plain": "    timestamp    visit_id                                 url  region  \\\n0  1549980692  e3b0c44298  https://host.ru/3c19b4ef7371864fa3  Russia   \n1  1549980704  6e340b9cff  https://host.ru/c8d9213a31839f9a3a  Russia   \n2  1549980715  96a296d224  https://host.ru/b8b58337d272ee7b15  Russia   \n3  1549980725  709e80c884  https://host.ru/b8b58337d272ee7b15  Russia   \n4  1549980736  df3f619804  https://host.ru/b8b58337d272ee7b15  Russia   \n\n      user_id traffic_source  \n0  b1613cc09f         yandex  \n1  4c3ec14bee         direct  \n2  a8c40697fb         yandex  \n3  521ac1d6a0         yandex  \n4  d7323c571c         yandex  ",
      "text/html": "<div>\n<style scoped>\n    .dataframe tbody tr th:only-of-type {\n        vertical-align: middle;\n    }\n\n    .dataframe tbody tr th {\n        vertical-align: top;\n    }\n\n    .dataframe thead th {\n        text-align: right;\n    }\n</style>\n<table border=\"1\" class=\"dataframe\">\n  <thead>\n    <tr style=\"text-align: right;\">\n      <th></th>\n      <th>timestamp</th>\n      <th>visit_id</th>\n      <th>url</th>\n      <th>region</th>\n      <th>user_id</th>\n      <th>traffic_source</th>\n    </tr>\n  </thead>\n  <tbody>\n    <tr>\n      <th>0</th>\n      <td>1549980692</td>\n      <td>e3b0c44298</td>\n      <td>https://host.ru/3c19b4ef7371864fa3</td>\n      <td>Russia</td>\n      <td>b1613cc09f</td>\n      <td>yandex</td>\n    </tr>\n    <tr>\n      <th>1</th>\n      <td>1549980704</td>\n      <td>6e340b9cff</td>\n      <td>https://host.ru/c8d9213a31839f9a3a</td>\n      <td>Russia</td>\n      <td>4c3ec14bee</td>\n      <td>direct</td>\n    </tr>\n    <tr>\n      <th>2</th>\n      <td>1549980715</td>\n      <td>96a296d224</td>\n      <td>https://host.ru/b8b58337d272ee7b15</td>\n      <td>Russia</td>\n      <td>a8c40697fb</td>\n      <td>yandex</td>\n    </tr>\n    <tr>\n      <th>3</th>\n      <td>1549980725</td>\n      <td>709e80c884</td>\n      <td>https://host.ru/b8b58337d272ee7b15</td>\n      <td>Russia</td>\n      <td>521ac1d6a0</td>\n      <td>yandex</td>\n    </tr>\n    <tr>\n      <th>4</th>\n      <td>1549980736</td>\n      <td>df3f619804</td>\n      <td>https://host.ru/b8b58337d272ee7b15</td>\n      <td>Russia</td>\n      <td>d7323c571c</td>\n      <td>yandex</td>\n    </tr>\n  </tbody>\n</table>\n</div>"
     },
     "execution_count": 88,
     "metadata": {},
     "output_type": "execute_result"
    }
   ],
   "source": [
    "log = pd.read_csv('Библиотеки Python для анализа данных/Лекция Продвинутый pandas/Дополнительные файлы к лекции и дз/visit_log.csv', sep=';')\n",
    "log.head()"
   ],
   "metadata": {
    "collapsed": false,
    "ExecuteTime": {
     "end_time": "2023-12-03T11:01:07.820175200Z",
     "start_time": "2023-12-03T11:01:07.753715200Z"
    }
   },
   "id": "725ce68da1ad1f7e"
  },
  {
   "cell_type": "code",
   "execution_count": 89,
   "outputs": [],
   "source": [
    "\n",
    "def sources(row):\n",
    "    if ('yandex' in row['traffic_source']) or ('google' in row['traffic_source']):\n",
    "        return 'organic'\n",
    "    elif (('paid' in row['traffic_source']) or ('email' in row['traffic_source'])) and ('Russia' in row['region']):\n",
    "        return 'ad'\n",
    "    elif (('paid' in row['traffic_source']) or ('email' in row['traffic_source'])) and ('Russia' not in row['region']):\n",
    "        return 'other'\n",
    "    return row['traffic_source']"
   ],
   "metadata": {
    "collapsed": false,
    "ExecuteTime": {
     "end_time": "2023-12-03T11:01:09.710503800Z",
     "start_time": "2023-12-03T11:01:09.699917600Z"
    }
   },
   "id": "b1ba88a45896fa92"
  },
  {
   "cell_type": "code",
   "execution_count": 90,
   "outputs": [],
   "source": [
    "log['source_type'] = log.apply(sources, axis=1)\n",
    "\n"
   ],
   "metadata": {
    "collapsed": false,
    "ExecuteTime": {
     "end_time": "2023-12-03T11:01:14.013800500Z",
     "start_time": "2023-12-03T11:01:13.397577900Z"
    }
   },
   "id": "3dc177e34e536bb6"
  },
  {
   "cell_type": "code",
   "execution_count": 91,
   "outputs": [
    {
     "data": {
      "text/plain": "    timestamp    visit_id                                 url  region  \\\n0  1549980692  e3b0c44298  https://host.ru/3c19b4ef7371864fa3  Russia   \n2  1549980715  96a296d224  https://host.ru/b8b58337d272ee7b15  Russia   \n3  1549980725  709e80c884  https://host.ru/b8b58337d272ee7b15  Russia   \n4  1549980736  df3f619804  https://host.ru/b8b58337d272ee7b15  Russia   \n5  1549980742  8855508aad  https://host.ru/df646c3676cc259fa0  Russia   \n\n      user_id traffic_source source_type  \n0  b1613cc09f         yandex     organic  \n2  a8c40697fb         yandex     organic  \n3  521ac1d6a0         yandex     organic  \n4  d7323c571c         yandex     organic  \n5  fc43898e47         yandex     organic  ",
      "text/html": "<div>\n<style scoped>\n    .dataframe tbody tr th:only-of-type {\n        vertical-align: middle;\n    }\n\n    .dataframe tbody tr th {\n        vertical-align: top;\n    }\n\n    .dataframe thead th {\n        text-align: right;\n    }\n</style>\n<table border=\"1\" class=\"dataframe\">\n  <thead>\n    <tr style=\"text-align: right;\">\n      <th></th>\n      <th>timestamp</th>\n      <th>visit_id</th>\n      <th>url</th>\n      <th>region</th>\n      <th>user_id</th>\n      <th>traffic_source</th>\n      <th>source_type</th>\n    </tr>\n  </thead>\n  <tbody>\n    <tr>\n      <th>0</th>\n      <td>1549980692</td>\n      <td>e3b0c44298</td>\n      <td>https://host.ru/3c19b4ef7371864fa3</td>\n      <td>Russia</td>\n      <td>b1613cc09f</td>\n      <td>yandex</td>\n      <td>organic</td>\n    </tr>\n    <tr>\n      <th>2</th>\n      <td>1549980715</td>\n      <td>96a296d224</td>\n      <td>https://host.ru/b8b58337d272ee7b15</td>\n      <td>Russia</td>\n      <td>a8c40697fb</td>\n      <td>yandex</td>\n      <td>organic</td>\n    </tr>\n    <tr>\n      <th>3</th>\n      <td>1549980725</td>\n      <td>709e80c884</td>\n      <td>https://host.ru/b8b58337d272ee7b15</td>\n      <td>Russia</td>\n      <td>521ac1d6a0</td>\n      <td>yandex</td>\n      <td>organic</td>\n    </tr>\n    <tr>\n      <th>4</th>\n      <td>1549980736</td>\n      <td>df3f619804</td>\n      <td>https://host.ru/b8b58337d272ee7b15</td>\n      <td>Russia</td>\n      <td>d7323c571c</td>\n      <td>yandex</td>\n      <td>organic</td>\n    </tr>\n    <tr>\n      <th>5</th>\n      <td>1549980742</td>\n      <td>8855508aad</td>\n      <td>https://host.ru/df646c3676cc259fa0</td>\n      <td>Russia</td>\n      <td>fc43898e47</td>\n      <td>yandex</td>\n      <td>organic</td>\n    </tr>\n  </tbody>\n</table>\n</div>"
     },
     "execution_count": 91,
     "metadata": {},
     "output_type": "execute_result"
    }
   ],
   "source": [
    "log.loc[log.traffic_source == 'yandex'].head()"
   ],
   "metadata": {
    "collapsed": false,
    "ExecuteTime": {
     "end_time": "2023-12-03T11:01:16.040139100Z",
     "start_time": "2023-12-03T11:01:16.007091600Z"
    }
   },
   "id": "ae2cc728a40dc4e3"
  },
  {
   "cell_type": "code",
   "execution_count": 92,
   "outputs": [
    {
     "data": {
      "text/plain": "     timestamp    visit_id                                 url   region  \\\n11  1549980785  71b6c1d538  https://host.ru/c8d9213a31839f9a3a  Ukraine   \n16  1549980801  374708fff7  https://host.ru/39fa884393666d45fc   Russia   \n21  1549980823  c90232586b  https://host.ru/da83c74e35e7806fe0  Ukraine   \n46  1549980969  878f32f76b  https://host.ru/186c4d6b47dbde0e74   Russia   \n51  1549981001  8e8fe47e4a  https://host.ru/39fa884393666d45fc  Ukraine   \n\n       user_id traffic_source source_type  \n11  3b13701488         google     organic  \n16  e9bd59e22d         google     organic  \n21  a00405d70c         google     organic  \n46  ee82681887         google     organic  \n51  8aa7273421         google     organic  ",
      "text/html": "<div>\n<style scoped>\n    .dataframe tbody tr th:only-of-type {\n        vertical-align: middle;\n    }\n\n    .dataframe tbody tr th {\n        vertical-align: top;\n    }\n\n    .dataframe thead th {\n        text-align: right;\n    }\n</style>\n<table border=\"1\" class=\"dataframe\">\n  <thead>\n    <tr style=\"text-align: right;\">\n      <th></th>\n      <th>timestamp</th>\n      <th>visit_id</th>\n      <th>url</th>\n      <th>region</th>\n      <th>user_id</th>\n      <th>traffic_source</th>\n      <th>source_type</th>\n    </tr>\n  </thead>\n  <tbody>\n    <tr>\n      <th>11</th>\n      <td>1549980785</td>\n      <td>71b6c1d538</td>\n      <td>https://host.ru/c8d9213a31839f9a3a</td>\n      <td>Ukraine</td>\n      <td>3b13701488</td>\n      <td>google</td>\n      <td>organic</td>\n    </tr>\n    <tr>\n      <th>16</th>\n      <td>1549980801</td>\n      <td>374708fff7</td>\n      <td>https://host.ru/39fa884393666d45fc</td>\n      <td>Russia</td>\n      <td>e9bd59e22d</td>\n      <td>google</td>\n      <td>organic</td>\n    </tr>\n    <tr>\n      <th>21</th>\n      <td>1549980823</td>\n      <td>c90232586b</td>\n      <td>https://host.ru/da83c74e35e7806fe0</td>\n      <td>Ukraine</td>\n      <td>a00405d70c</td>\n      <td>google</td>\n      <td>organic</td>\n    </tr>\n    <tr>\n      <th>46</th>\n      <td>1549980969</td>\n      <td>878f32f76b</td>\n      <td>https://host.ru/186c4d6b47dbde0e74</td>\n      <td>Russia</td>\n      <td>ee82681887</td>\n      <td>google</td>\n      <td>organic</td>\n    </tr>\n    <tr>\n      <th>51</th>\n      <td>1549981001</td>\n      <td>8e8fe47e4a</td>\n      <td>https://host.ru/39fa884393666d45fc</td>\n      <td>Ukraine</td>\n      <td>8aa7273421</td>\n      <td>google</td>\n      <td>organic</td>\n    </tr>\n  </tbody>\n</table>\n</div>"
     },
     "execution_count": 92,
     "metadata": {},
     "output_type": "execute_result"
    }
   ],
   "source": [
    "log.loc[log.traffic_source == 'google'].head()"
   ],
   "metadata": {
    "collapsed": false,
    "ExecuteTime": {
     "end_time": "2023-12-03T11:01:19.465777500Z",
     "start_time": "2023-12-03T11:01:19.433000100Z"
    }
   },
   "id": "72b2a28649573169"
  },
  {
   "cell_type": "code",
   "execution_count": 93,
   "outputs": [
    {
     "data": {
      "text/plain": "     timestamp    visit_id                                 url   region  \\\n6   1549980742  b0f66adc83  https://host.ru/b8b58337d272ee7b15   Russia   \n12  1549980789  15ec7bf0b5  https://host.ru/8e88d4703848cc0ec4   Russia   \n15  1549980797  5322fecfc9  https://host.ru/4adc8a29b212051b04  Belarus   \n17  1549980807  0a88111852  https://host.ru/2fcb223266880ccf57  Ukraine   \n26  1549980852  659d36ca56  https://host.ru/4adc8a29b212051b04   Russia   \n\n       user_id traffic_source source_type  \n6   13fc55e781           paid          ad  \n12  6d1d81f7f8           paid          ad  \n15  9a45d98867           paid       other  \n17  a2ba8fa3db           paid       other  \n26  c4bd1ae3af           paid          ad  ",
      "text/html": "<div>\n<style scoped>\n    .dataframe tbody tr th:only-of-type {\n        vertical-align: middle;\n    }\n\n    .dataframe tbody tr th {\n        vertical-align: top;\n    }\n\n    .dataframe thead th {\n        text-align: right;\n    }\n</style>\n<table border=\"1\" class=\"dataframe\">\n  <thead>\n    <tr style=\"text-align: right;\">\n      <th></th>\n      <th>timestamp</th>\n      <th>visit_id</th>\n      <th>url</th>\n      <th>region</th>\n      <th>user_id</th>\n      <th>traffic_source</th>\n      <th>source_type</th>\n    </tr>\n  </thead>\n  <tbody>\n    <tr>\n      <th>6</th>\n      <td>1549980742</td>\n      <td>b0f66adc83</td>\n      <td>https://host.ru/b8b58337d272ee7b15</td>\n      <td>Russia</td>\n      <td>13fc55e781</td>\n      <td>paid</td>\n      <td>ad</td>\n    </tr>\n    <tr>\n      <th>12</th>\n      <td>1549980789</td>\n      <td>15ec7bf0b5</td>\n      <td>https://host.ru/8e88d4703848cc0ec4</td>\n      <td>Russia</td>\n      <td>6d1d81f7f8</td>\n      <td>paid</td>\n      <td>ad</td>\n    </tr>\n    <tr>\n      <th>15</th>\n      <td>1549980797</td>\n      <td>5322fecfc9</td>\n      <td>https://host.ru/4adc8a29b212051b04</td>\n      <td>Belarus</td>\n      <td>9a45d98867</td>\n      <td>paid</td>\n      <td>other</td>\n    </tr>\n    <tr>\n      <th>17</th>\n      <td>1549980807</td>\n      <td>0a88111852</td>\n      <td>https://host.ru/2fcb223266880ccf57</td>\n      <td>Ukraine</td>\n      <td>a2ba8fa3db</td>\n      <td>paid</td>\n      <td>other</td>\n    </tr>\n    <tr>\n      <th>26</th>\n      <td>1549980852</td>\n      <td>659d36ca56</td>\n      <td>https://host.ru/4adc8a29b212051b04</td>\n      <td>Russia</td>\n      <td>c4bd1ae3af</td>\n      <td>paid</td>\n      <td>ad</td>\n    </tr>\n  </tbody>\n</table>\n</div>"
     },
     "execution_count": 93,
     "metadata": {},
     "output_type": "execute_result"
    }
   ],
   "source": [
    "log.loc[log.traffic_source == 'paid'].head()"
   ],
   "metadata": {
    "collapsed": false,
    "ExecuteTime": {
     "end_time": "2023-12-03T11:01:24.922019400Z",
     "start_time": "2023-12-03T11:01:24.888961400Z"
    }
   },
   "id": "ee31567c3d1c040e"
  },
  {
   "cell_type": "code",
   "execution_count": 94,
   "outputs": [
    {
     "data": {
      "text/plain": "     timestamp    visit_id                                 url   region  \\\n9   1549980765  3e7077fd2f  https://host.ru/df646c3676cc259fa0   Russia   \n20  1549980816  de47c9b27e  https://host.ru/8fe7c39e5c598bbc54  Ukraine   \n23  1549980839  015275e61f  https://host.ru/c8d9213a31839f9a3a   Russia   \n27  1549980853  ea49aa9f6f  https://host.ru/1afc5618562365020a   Russia   \n33  1549980897  7f9c9e31ac  https://host.ru/ac2d98a5a63e7c6e28  Belarus   \n\n       user_id traffic_source source_type  \n9   6f9de8c8b6          email          ad  \n20  2f25b6e26a          email       other  \n23  21bdc57777          email          ad  \n27  20e8e91ecf          email          ad  \n33  38f45e7f9b          email       other  ",
      "text/html": "<div>\n<style scoped>\n    .dataframe tbody tr th:only-of-type {\n        vertical-align: middle;\n    }\n\n    .dataframe tbody tr th {\n        vertical-align: top;\n    }\n\n    .dataframe thead th {\n        text-align: right;\n    }\n</style>\n<table border=\"1\" class=\"dataframe\">\n  <thead>\n    <tr style=\"text-align: right;\">\n      <th></th>\n      <th>timestamp</th>\n      <th>visit_id</th>\n      <th>url</th>\n      <th>region</th>\n      <th>user_id</th>\n      <th>traffic_source</th>\n      <th>source_type</th>\n    </tr>\n  </thead>\n  <tbody>\n    <tr>\n      <th>9</th>\n      <td>1549980765</td>\n      <td>3e7077fd2f</td>\n      <td>https://host.ru/df646c3676cc259fa0</td>\n      <td>Russia</td>\n      <td>6f9de8c8b6</td>\n      <td>email</td>\n      <td>ad</td>\n    </tr>\n    <tr>\n      <th>20</th>\n      <td>1549980816</td>\n      <td>de47c9b27e</td>\n      <td>https://host.ru/8fe7c39e5c598bbc54</td>\n      <td>Ukraine</td>\n      <td>2f25b6e26a</td>\n      <td>email</td>\n      <td>other</td>\n    </tr>\n    <tr>\n      <th>23</th>\n      <td>1549980839</td>\n      <td>015275e61f</td>\n      <td>https://host.ru/c8d9213a31839f9a3a</td>\n      <td>Russia</td>\n      <td>21bdc57777</td>\n      <td>email</td>\n      <td>ad</td>\n    </tr>\n    <tr>\n      <th>27</th>\n      <td>1549980853</td>\n      <td>ea49aa9f6f</td>\n      <td>https://host.ru/1afc5618562365020a</td>\n      <td>Russia</td>\n      <td>20e8e91ecf</td>\n      <td>email</td>\n      <td>ad</td>\n    </tr>\n    <tr>\n      <th>33</th>\n      <td>1549980897</td>\n      <td>7f9c9e31ac</td>\n      <td>https://host.ru/ac2d98a5a63e7c6e28</td>\n      <td>Belarus</td>\n      <td>38f45e7f9b</td>\n      <td>email</td>\n      <td>other</td>\n    </tr>\n  </tbody>\n</table>\n</div>"
     },
     "execution_count": 94,
     "metadata": {},
     "output_type": "execute_result"
    }
   ],
   "source": [
    "log.loc[log.traffic_source == 'email'].head()"
   ],
   "metadata": {
    "collapsed": false,
    "ExecuteTime": {
     "end_time": "2023-12-03T11:01:48.638169200Z",
     "start_time": "2023-12-03T11:01:48.621902300Z"
    }
   },
   "id": "e19a458d79be8846"
  },
  {
   "cell_type": "code",
   "execution_count": 134,
   "outputs": [
    {
     "data": {
      "text/plain": "     timestamp    visit_id                                 url  region  \\\n1   1549980704  6e340b9cff  https://host.ru/c8d9213a31839f9a3a  Russia   \n7   1549980754  837885c8f8  https://host.ru/108ce4b365afb7b88e  Russia   \n8   1549980760  af5570f5a1  https://host.ru/3004a8273caeef2867   China   \n10  1549980777  01d448afd9  https://host.ru/a5dda93e70318570c0   India   \n13  1549980792  dd46c3eebb  https://host.ru/3004a8273caeef2867   China   \n\n       user_id traffic_source source_type  \n1   4c3ec14bee         direct      direct  \n7   cb5082b6f6         direct      direct  \n8   45664f7af2         direct      direct  \n10  27e76a4a80         direct      direct  \n13  7e301c8c41         direct      direct  ",
      "text/html": "<div>\n<style scoped>\n    .dataframe tbody tr th:only-of-type {\n        vertical-align: middle;\n    }\n\n    .dataframe tbody tr th {\n        vertical-align: top;\n    }\n\n    .dataframe thead th {\n        text-align: right;\n    }\n</style>\n<table border=\"1\" class=\"dataframe\">\n  <thead>\n    <tr style=\"text-align: right;\">\n      <th></th>\n      <th>timestamp</th>\n      <th>visit_id</th>\n      <th>url</th>\n      <th>region</th>\n      <th>user_id</th>\n      <th>traffic_source</th>\n      <th>source_type</th>\n    </tr>\n  </thead>\n  <tbody>\n    <tr>\n      <th>1</th>\n      <td>1549980704</td>\n      <td>6e340b9cff</td>\n      <td>https://host.ru/c8d9213a31839f9a3a</td>\n      <td>Russia</td>\n      <td>4c3ec14bee</td>\n      <td>direct</td>\n      <td>direct</td>\n    </tr>\n    <tr>\n      <th>7</th>\n      <td>1549980754</td>\n      <td>837885c8f8</td>\n      <td>https://host.ru/108ce4b365afb7b88e</td>\n      <td>Russia</td>\n      <td>cb5082b6f6</td>\n      <td>direct</td>\n      <td>direct</td>\n    </tr>\n    <tr>\n      <th>8</th>\n      <td>1549980760</td>\n      <td>af5570f5a1</td>\n      <td>https://host.ru/3004a8273caeef2867</td>\n      <td>China</td>\n      <td>45664f7af2</td>\n      <td>direct</td>\n      <td>direct</td>\n    </tr>\n    <tr>\n      <th>10</th>\n      <td>1549980777</td>\n      <td>01d448afd9</td>\n      <td>https://host.ru/a5dda93e70318570c0</td>\n      <td>India</td>\n      <td>27e76a4a80</td>\n      <td>direct</td>\n      <td>direct</td>\n    </tr>\n    <tr>\n      <th>13</th>\n      <td>1549980792</td>\n      <td>dd46c3eebb</td>\n      <td>https://host.ru/3004a8273caeef2867</td>\n      <td>China</td>\n      <td>7e301c8c41</td>\n      <td>direct</td>\n      <td>direct</td>\n    </tr>\n  </tbody>\n</table>\n</div>"
     },
     "execution_count": 134,
     "metadata": {},
     "output_type": "execute_result"
    }
   ],
   "source": [
    "log.loc[~log.traffic_source.str.contains('yandex|google|paid|email')].head()"
   ],
   "metadata": {
    "collapsed": false,
    "ExecuteTime": {
     "end_time": "2023-12-03T13:55:01.909142300Z",
     "start_time": "2023-12-03T13:55:01.879797500Z"
    }
   },
   "id": "188a710d15f4d6e8"
  },
  {
   "cell_type": "markdown",
   "source": [
    "Задание 2\n",
    "В файле URLs.txt содержатся URL страниц новостного сайта. Вам нужно отфильтровать его по адресам страниц с текстами новостей. Известно, что шаблон страницы новостей имеет внутри URL конструкцию: /, затем 8 цифр, затем дефис. Выполните действия:\n",
    "\n",
    "Прочитайте содержимое файла с датафрейм.\n",
    "Отфильтруйте страницы с текстом новостей, используя метод str.contains и регулярное выражение в соответствие с заданным шаблоном."
   ],
   "metadata": {
    "collapsed": false
   },
   "id": "3c78c119c582cd9e"
  },
  {
   "cell_type": "code",
   "execution_count": 61,
   "outputs": [
    {
     "data": {
      "text/plain": "                                                 url\n0                                            /world/\n1                                           /latest/\n2                                      /?updated=top\n3  /politics/36188461-s-marta-zhizn-rossiyan-susc...\n4  /world/36007585-tramp-pridumal-kak-reshit-ukra...",
      "text/html": "<div>\n<style scoped>\n    .dataframe tbody tr th:only-of-type {\n        vertical-align: middle;\n    }\n\n    .dataframe tbody tr th {\n        vertical-align: top;\n    }\n\n    .dataframe thead th {\n        text-align: right;\n    }\n</style>\n<table border=\"1\" class=\"dataframe\">\n  <thead>\n    <tr style=\"text-align: right;\">\n      <th></th>\n      <th>url</th>\n    </tr>\n  </thead>\n  <tbody>\n    <tr>\n      <th>0</th>\n      <td>/world/</td>\n    </tr>\n    <tr>\n      <th>1</th>\n      <td>/latest/</td>\n    </tr>\n    <tr>\n      <th>2</th>\n      <td>/?updated=top</td>\n    </tr>\n    <tr>\n      <th>3</th>\n      <td>/politics/36188461-s-marta-zhizn-rossiyan-susc...</td>\n    </tr>\n    <tr>\n      <th>4</th>\n      <td>/world/36007585-tramp-pridumal-kak-reshit-ukra...</td>\n    </tr>\n  </tbody>\n</table>\n</div>"
     },
     "execution_count": 61,
     "metadata": {},
     "output_type": "execute_result"
    }
   ],
   "source": [
    "urls = pd.read_csv('Библиотеки Python для анализа данных/Лекция Продвинутый pandas/Дополнительные файлы к лекции и дз/URLs.txt')\n",
    "urls.head()"
   ],
   "metadata": {
    "collapsed": false,
    "ExecuteTime": {
     "end_time": "2023-12-03T10:24:39.963217400Z",
     "start_time": "2023-12-03T10:24:39.947221400Z"
    }
   },
   "id": "fbf5f617cd1f6eda"
  },
  {
   "cell_type": "code",
   "execution_count": 66,
   "outputs": [
    {
     "data": {
      "text/plain": "                                                  url\n3   /politics/36188461-s-marta-zhizn-rossiyan-susc...\n4   /world/36007585-tramp-pridumal-kak-reshit-ukra...\n5   /science/36157853-nasa-sobiraet-ekstrennuyu-pr...\n6   /video/36001498-poyavilis-pervye-podrobnosti-g...\n7   /world/36007585-tramp-pridumal-kak-reshit-ukra...\n..                                                ...\n88  /cis/35984145-kreml-prokommentiroval-soobschen...\n89  /video/36071019-olimpiyskie-obekty-rio-prevrat...\n90  /science/36151301-nazvano-posledstvie-zloupotr...\n91  /incidents/36027330-vospitatelnitsu-zatravili-...\n92  /world/36103095-dominikanskih-zhurnalistov-ubi...\n\n[84 rows x 1 columns]",
      "text/html": "<div>\n<style scoped>\n    .dataframe tbody tr th:only-of-type {\n        vertical-align: middle;\n    }\n\n    .dataframe tbody tr th {\n        vertical-align: top;\n    }\n\n    .dataframe thead th {\n        text-align: right;\n    }\n</style>\n<table border=\"1\" class=\"dataframe\">\n  <thead>\n    <tr style=\"text-align: right;\">\n      <th></th>\n      <th>url</th>\n    </tr>\n  </thead>\n  <tbody>\n    <tr>\n      <th>3</th>\n      <td>/politics/36188461-s-marta-zhizn-rossiyan-susc...</td>\n    </tr>\n    <tr>\n      <th>4</th>\n      <td>/world/36007585-tramp-pridumal-kak-reshit-ukra...</td>\n    </tr>\n    <tr>\n      <th>5</th>\n      <td>/science/36157853-nasa-sobiraet-ekstrennuyu-pr...</td>\n    </tr>\n    <tr>\n      <th>6</th>\n      <td>/video/36001498-poyavilis-pervye-podrobnosti-g...</td>\n    </tr>\n    <tr>\n      <th>7</th>\n      <td>/world/36007585-tramp-pridumal-kak-reshit-ukra...</td>\n    </tr>\n    <tr>\n      <th>...</th>\n      <td>...</td>\n    </tr>\n    <tr>\n      <th>88</th>\n      <td>/cis/35984145-kreml-prokommentiroval-soobschen...</td>\n    </tr>\n    <tr>\n      <th>89</th>\n      <td>/video/36071019-olimpiyskie-obekty-rio-prevrat...</td>\n    </tr>\n    <tr>\n      <th>90</th>\n      <td>/science/36151301-nazvano-posledstvie-zloupotr...</td>\n    </tr>\n    <tr>\n      <th>91</th>\n      <td>/incidents/36027330-vospitatelnitsu-zatravili-...</td>\n    </tr>\n    <tr>\n      <th>92</th>\n      <td>/world/36103095-dominikanskih-zhurnalistov-ubi...</td>\n    </tr>\n  </tbody>\n</table>\n<p>84 rows × 1 columns</p>\n</div>"
     },
     "execution_count": 66,
     "metadata": {},
     "output_type": "execute_result"
    }
   ],
   "source": [
    "urls.loc[urls.url.str.contains('/[0-9]{8}-', regex = True)]"
   ],
   "metadata": {
    "collapsed": false,
    "ExecuteTime": {
     "end_time": "2023-12-03T10:32:45.653168700Z",
     "start_time": "2023-12-03T10:32:45.618008400Z"
    }
   },
   "id": "dd553c934d1a5358"
  },
  {
   "cell_type": "markdown",
   "source": [
    "Задание 3\n",
    "Используйте файл с оценками фильмов ml-latest-small/ratings.csv. Посчитайте среднее время жизни пользователей, которые выставили более 100 оценок. Под временем жизни понимается разница между максимальным и минимальным значениями столбца timestamp для данного значения userId."
   ],
   "metadata": {
    "collapsed": false
   },
   "id": "d076f69383156156"
  },
  {
   "cell_type": "code",
   "execution_count": 5,
   "outputs": [
    {
     "data": {
      "text/plain": "   userId  movieId  rating   timestamp\n0       1       31     2.5  1260759144\n1       1     1029     3.0  1260759179\n2       1     1061     3.0  1260759182\n3       1     1129     2.0  1260759185\n4       1     1172     4.0  1260759205",
      "text/html": "<div>\n<style scoped>\n    .dataframe tbody tr th:only-of-type {\n        vertical-align: middle;\n    }\n\n    .dataframe tbody tr th {\n        vertical-align: top;\n    }\n\n    .dataframe thead th {\n        text-align: right;\n    }\n</style>\n<table border=\"1\" class=\"dataframe\">\n  <thead>\n    <tr style=\"text-align: right;\">\n      <th></th>\n      <th>userId</th>\n      <th>movieId</th>\n      <th>rating</th>\n      <th>timestamp</th>\n    </tr>\n  </thead>\n  <tbody>\n    <tr>\n      <th>0</th>\n      <td>1</td>\n      <td>31</td>\n      <td>2.5</td>\n      <td>1260759144</td>\n    </tr>\n    <tr>\n      <th>1</th>\n      <td>1</td>\n      <td>1029</td>\n      <td>3.0</td>\n      <td>1260759179</td>\n    </tr>\n    <tr>\n      <th>2</th>\n      <td>1</td>\n      <td>1061</td>\n      <td>3.0</td>\n      <td>1260759182</td>\n    </tr>\n    <tr>\n      <th>3</th>\n      <td>1</td>\n      <td>1129</td>\n      <td>2.0</td>\n      <td>1260759185</td>\n    </tr>\n    <tr>\n      <th>4</th>\n      <td>1</td>\n      <td>1172</td>\n      <td>4.0</td>\n      <td>1260759205</td>\n    </tr>\n  </tbody>\n</table>\n</div>"
     },
     "execution_count": 5,
     "metadata": {},
     "output_type": "execute_result"
    }
   ],
   "source": [
    "ratings = pd.read_csv('Библиотеки Python для анализа данных/Лекция Продвинутый pandas/Дополнительные файлы к лекции и дз/ml-latest-small/ratings.csv')\n",
    "ratings.head()"
   ],
   "metadata": {
    "collapsed": false,
    "ExecuteTime": {
     "end_time": "2023-11-27T19:53:15.883390900Z",
     "start_time": "2023-11-27T19:53:15.816454100Z"
    }
   },
   "id": "df84c0a3f24304ca"
  },
  {
   "cell_type": "code",
   "execution_count": 96,
   "outputs": [
    {
     "data": {
      "text/plain": "40080507.4496124"
     },
     "execution_count": 96,
     "metadata": {},
     "output_type": "execute_result"
    }
   ],
   "source": [
    "temp = ratings.groupby('userId').agg({'rating':'count','timestamp':['min', 'max']})\n",
    "temp.loc[temp['rating']['count']>100, 'life_time'] = temp['timestamp']['max']-temp['timestamp']['min']\n",
    "temp.life_time.mean()\n",
    "\n"
   ],
   "metadata": {
    "collapsed": false,
    "ExecuteTime": {
     "end_time": "2023-11-27T21:41:59.138324300Z",
     "start_time": "2023-11-27T21:41:59.120322800Z"
    }
   },
   "id": "f1951a5da8d38c94"
  },
  {
   "cell_type": "markdown",
   "source": [
    "### Задание 4\n",
    "Дана статистика услуг перевозок клиентов компании по типам (см. файл “Python_13_join.ipynb” в разделе «Материалы для лекции “Продвинутый pandas”» ---- Ноутбуки к лекции «Продвинутый pandas»).\n",
    "Нужно сформировать две таблицы:\n",
    "\n",
    "таблицу с тремя типами выручки для каждого client_id без указания адреса клиента;\n",
    "аналогичную таблицу по типам выручки с указанием адреса клиента.\n",
    "Обратите внимание, что в процессе объединения таблиц данные не должны теряться."
   ],
   "metadata": {
    "collapsed": false
   },
   "id": "80f79465592fbef0"
  },
  {
   "cell_type": "code",
   "execution_count": 135,
   "outputs": [
    {
     "data": {
      "text/plain": "   client_id  rzd_revenue\n0        111         1093\n1        112         2810\n2        113        10283\n3        114         5774\n4        115          981",
      "text/html": "<div>\n<style scoped>\n    .dataframe tbody tr th:only-of-type {\n        vertical-align: middle;\n    }\n\n    .dataframe tbody tr th {\n        vertical-align: top;\n    }\n\n    .dataframe thead th {\n        text-align: right;\n    }\n</style>\n<table border=\"1\" class=\"dataframe\">\n  <thead>\n    <tr style=\"text-align: right;\">\n      <th></th>\n      <th>client_id</th>\n      <th>rzd_revenue</th>\n    </tr>\n  </thead>\n  <tbody>\n    <tr>\n      <th>0</th>\n      <td>111</td>\n      <td>1093</td>\n    </tr>\n    <tr>\n      <th>1</th>\n      <td>112</td>\n      <td>2810</td>\n    </tr>\n    <tr>\n      <th>2</th>\n      <td>113</td>\n      <td>10283</td>\n    </tr>\n    <tr>\n      <th>3</th>\n      <td>114</td>\n      <td>5774</td>\n    </tr>\n    <tr>\n      <th>4</th>\n      <td>115</td>\n      <td>981</td>\n    </tr>\n  </tbody>\n</table>\n</div>"
     },
     "execution_count": 135,
     "metadata": {},
     "output_type": "execute_result"
    }
   ],
   "source": [
    "rzd = pd.DataFrame(\n",
    "    {\n",
    "        'client_id': [111, 112, 113, 114, 115],\n",
    "        'rzd_revenue': [1093, 2810, 10283, 5774, 981]\n",
    "    }\n",
    ")\n",
    "rzd # железнодорожные перевозки"
   ],
   "metadata": {
    "collapsed": false,
    "ExecuteTime": {
     "end_time": "2023-12-03T15:35:22.338094700Z",
     "start_time": "2023-12-03T15:35:22.318770200Z"
    }
   },
   "id": "11bb772ca529bcd"
  },
  {
   "cell_type": "code",
   "execution_count": 136,
   "outputs": [
    {
     "data": {
      "text/plain": "   client_id  auto_revenue\n0        113         57483\n1        114            83\n2        115           912\n3        116          4834\n4        117            98",
      "text/html": "<div>\n<style scoped>\n    .dataframe tbody tr th:only-of-type {\n        vertical-align: middle;\n    }\n\n    .dataframe tbody tr th {\n        vertical-align: top;\n    }\n\n    .dataframe thead th {\n        text-align: right;\n    }\n</style>\n<table border=\"1\" class=\"dataframe\">\n  <thead>\n    <tr style=\"text-align: right;\">\n      <th></th>\n      <th>client_id</th>\n      <th>auto_revenue</th>\n    </tr>\n  </thead>\n  <tbody>\n    <tr>\n      <th>0</th>\n      <td>113</td>\n      <td>57483</td>\n    </tr>\n    <tr>\n      <th>1</th>\n      <td>114</td>\n      <td>83</td>\n    </tr>\n    <tr>\n      <th>2</th>\n      <td>115</td>\n      <td>912</td>\n    </tr>\n    <tr>\n      <th>3</th>\n      <td>116</td>\n      <td>4834</td>\n    </tr>\n    <tr>\n      <th>4</th>\n      <td>117</td>\n      <td>98</td>\n    </tr>\n  </tbody>\n</table>\n</div>"
     },
     "execution_count": 136,
     "metadata": {},
     "output_type": "execute_result"
    }
   ],
   "source": [
    "auto = pd.DataFrame(\n",
    "    {\n",
    "        'client_id': [113, 114, 115, 116, 117],\n",
    "        'auto_revenue': [57483, 83, 912, 4834, 98]\n",
    "    }\n",
    ")\n",
    "auto # автомобильные перевозки"
   ],
   "metadata": {
    "collapsed": false,
    "ExecuteTime": {
     "end_time": "2023-12-03T15:35:30.811408600Z",
     "start_time": "2023-12-03T15:35:30.806387100Z"
    }
   },
   "id": "771637c3fc05c580"
  },
  {
   "cell_type": "code",
   "execution_count": 137,
   "outputs": [
    {
     "data": {
      "text/plain": "   client_id  air_revenue\n0        115           81\n1        116            4\n2        117           13\n3        118          173",
      "text/html": "<div>\n<style scoped>\n    .dataframe tbody tr th:only-of-type {\n        vertical-align: middle;\n    }\n\n    .dataframe tbody tr th {\n        vertical-align: top;\n    }\n\n    .dataframe thead th {\n        text-align: right;\n    }\n</style>\n<table border=\"1\" class=\"dataframe\">\n  <thead>\n    <tr style=\"text-align: right;\">\n      <th></th>\n      <th>client_id</th>\n      <th>air_revenue</th>\n    </tr>\n  </thead>\n  <tbody>\n    <tr>\n      <th>0</th>\n      <td>115</td>\n      <td>81</td>\n    </tr>\n    <tr>\n      <th>1</th>\n      <td>116</td>\n      <td>4</td>\n    </tr>\n    <tr>\n      <th>2</th>\n      <td>117</td>\n      <td>13</td>\n    </tr>\n    <tr>\n      <th>3</th>\n      <td>118</td>\n      <td>173</td>\n    </tr>\n  </tbody>\n</table>\n</div>"
     },
     "execution_count": 137,
     "metadata": {},
     "output_type": "execute_result"
    }
   ],
   "source": [
    "air = pd.DataFrame(\n",
    "    {\n",
    "        'client_id': [115, 116, 117, 118],\n",
    "        'air_revenue': [81, 4, 13, 173]\n",
    "    }\n",
    ")\n",
    "air # воздушные перевозки"
   ],
   "metadata": {
    "collapsed": false,
    "ExecuteTime": {
     "end_time": "2023-12-03T15:35:42.378827Z",
     "start_time": "2023-12-03T15:35:42.373688100Z"
    }
   },
   "id": "870a4dd078696172"
  },
  {
   "cell_type": "code",
   "execution_count": 138,
   "outputs": [
    {
     "data": {
      "text/plain": "   client_id          address\n0        111  Комсомольская 4\n1        112   Энтузиастов 8а\n2        113  Левобережная 1а\n3        114          Мира 14\n4        115        ЗЖБИиДК 1\n5        116    Строителей 18\n6        117  Панфиловская 33\n7        118     Мастеркова 4",
      "text/html": "<div>\n<style scoped>\n    .dataframe tbody tr th:only-of-type {\n        vertical-align: middle;\n    }\n\n    .dataframe tbody tr th {\n        vertical-align: top;\n    }\n\n    .dataframe thead th {\n        text-align: right;\n    }\n</style>\n<table border=\"1\" class=\"dataframe\">\n  <thead>\n    <tr style=\"text-align: right;\">\n      <th></th>\n      <th>client_id</th>\n      <th>address</th>\n    </tr>\n  </thead>\n  <tbody>\n    <tr>\n      <th>0</th>\n      <td>111</td>\n      <td>Комсомольская 4</td>\n    </tr>\n    <tr>\n      <th>1</th>\n      <td>112</td>\n      <td>Энтузиастов 8а</td>\n    </tr>\n    <tr>\n      <th>2</th>\n      <td>113</td>\n      <td>Левобережная 1а</td>\n    </tr>\n    <tr>\n      <th>3</th>\n      <td>114</td>\n      <td>Мира 14</td>\n    </tr>\n    <tr>\n      <th>4</th>\n      <td>115</td>\n      <td>ЗЖБИиДК 1</td>\n    </tr>\n    <tr>\n      <th>5</th>\n      <td>116</td>\n      <td>Строителей 18</td>\n    </tr>\n    <tr>\n      <th>6</th>\n      <td>117</td>\n      <td>Панфиловская 33</td>\n    </tr>\n    <tr>\n      <th>7</th>\n      <td>118</td>\n      <td>Мастеркова 4</td>\n    </tr>\n  </tbody>\n</table>\n</div>"
     },
     "execution_count": 138,
     "metadata": {},
     "output_type": "execute_result"
    }
   ],
   "source": [
    "client_base = pd.DataFrame(\n",
    "    {\n",
    "        'client_id': [111, 112, 113, 114, 115, 116, 117, 118],\n",
    "        'address': ['Комсомольская 4', 'Энтузиастов 8а', 'Левобережная 1а', 'Мира 14', 'ЗЖБИиДК 1',\n",
    "                    'Строителей 18', 'Панфиловская 33', 'Мастеркова 4']\n",
    "    }\n",
    ")\n",
    "client_base # адреса клиентов"
   ],
   "metadata": {
    "collapsed": false,
    "ExecuteTime": {
     "end_time": "2023-12-03T15:35:47.001954400Z",
     "start_time": "2023-12-03T15:35:46.992355300Z"
    }
   },
   "id": "4add06213dea6056"
  },
  {
   "cell_type": "code",
   "execution_count": 141,
   "outputs": [
    {
     "data": {
      "text/plain": "   client_id  rzd_revenue  auto_revenue  air_revenue\n0        111       1093.0           NaN          NaN\n1        112       2810.0           NaN          NaN\n2        113      10283.0       57483.0          NaN\n3        114       5774.0          83.0          NaN\n4        115        981.0         912.0         81.0\n5        116          NaN        4834.0          4.0\n6        117          NaN          98.0         13.0\n7        118          NaN           NaN        173.0",
      "text/html": "<div>\n<style scoped>\n    .dataframe tbody tr th:only-of-type {\n        vertical-align: middle;\n    }\n\n    .dataframe tbody tr th {\n        vertical-align: top;\n    }\n\n    .dataframe thead th {\n        text-align: right;\n    }\n</style>\n<table border=\"1\" class=\"dataframe\">\n  <thead>\n    <tr style=\"text-align: right;\">\n      <th></th>\n      <th>client_id</th>\n      <th>rzd_revenue</th>\n      <th>auto_revenue</th>\n      <th>air_revenue</th>\n    </tr>\n  </thead>\n  <tbody>\n    <tr>\n      <th>0</th>\n      <td>111</td>\n      <td>1093.0</td>\n      <td>NaN</td>\n      <td>NaN</td>\n    </tr>\n    <tr>\n      <th>1</th>\n      <td>112</td>\n      <td>2810.0</td>\n      <td>NaN</td>\n      <td>NaN</td>\n    </tr>\n    <tr>\n      <th>2</th>\n      <td>113</td>\n      <td>10283.0</td>\n      <td>57483.0</td>\n      <td>NaN</td>\n    </tr>\n    <tr>\n      <th>3</th>\n      <td>114</td>\n      <td>5774.0</td>\n      <td>83.0</td>\n      <td>NaN</td>\n    </tr>\n    <tr>\n      <th>4</th>\n      <td>115</td>\n      <td>981.0</td>\n      <td>912.0</td>\n      <td>81.0</td>\n    </tr>\n    <tr>\n      <th>5</th>\n      <td>116</td>\n      <td>NaN</td>\n      <td>4834.0</td>\n      <td>4.0</td>\n    </tr>\n    <tr>\n      <th>6</th>\n      <td>117</td>\n      <td>NaN</td>\n      <td>98.0</td>\n      <td>13.0</td>\n    </tr>\n    <tr>\n      <th>7</th>\n      <td>118</td>\n      <td>NaN</td>\n      <td>NaN</td>\n      <td>173.0</td>\n    </tr>\n  </tbody>\n</table>\n</div>"
     },
     "execution_count": 141,
     "metadata": {},
     "output_type": "execute_result"
    }
   ],
   "source": [
    "rzd.merge(auto, how='outer',on='client_id').merge(air, how='outer',on='client_id')"
   ],
   "metadata": {
    "collapsed": false,
    "ExecuteTime": {
     "end_time": "2023-12-03T15:44:25.575620500Z",
     "start_time": "2023-12-03T15:44:25.557488500Z"
    }
   },
   "id": "f6119bed72b564a0"
  },
  {
   "cell_type": "code",
   "execution_count": 142,
   "outputs": [
    {
     "data": {
      "text/plain": "   client_id  rzd_revenue  auto_revenue  air_revenue          address\n0        111       1093.0           NaN          NaN  Комсомольская 4\n1        112       2810.0           NaN          NaN   Энтузиастов 8а\n2        113      10283.0       57483.0          NaN  Левобережная 1а\n3        114       5774.0          83.0          NaN          Мира 14\n4        115        981.0         912.0         81.0        ЗЖБИиДК 1\n5        116          NaN        4834.0          4.0    Строителей 18\n6        117          NaN          98.0         13.0  Панфиловская 33\n7        118          NaN           NaN        173.0     Мастеркова 4",
      "text/html": "<div>\n<style scoped>\n    .dataframe tbody tr th:only-of-type {\n        vertical-align: middle;\n    }\n\n    .dataframe tbody tr th {\n        vertical-align: top;\n    }\n\n    .dataframe thead th {\n        text-align: right;\n    }\n</style>\n<table border=\"1\" class=\"dataframe\">\n  <thead>\n    <tr style=\"text-align: right;\">\n      <th></th>\n      <th>client_id</th>\n      <th>rzd_revenue</th>\n      <th>auto_revenue</th>\n      <th>air_revenue</th>\n      <th>address</th>\n    </tr>\n  </thead>\n  <tbody>\n    <tr>\n      <th>0</th>\n      <td>111</td>\n      <td>1093.0</td>\n      <td>NaN</td>\n      <td>NaN</td>\n      <td>Комсомольская 4</td>\n    </tr>\n    <tr>\n      <th>1</th>\n      <td>112</td>\n      <td>2810.0</td>\n      <td>NaN</td>\n      <td>NaN</td>\n      <td>Энтузиастов 8а</td>\n    </tr>\n    <tr>\n      <th>2</th>\n      <td>113</td>\n      <td>10283.0</td>\n      <td>57483.0</td>\n      <td>NaN</td>\n      <td>Левобережная 1а</td>\n    </tr>\n    <tr>\n      <th>3</th>\n      <td>114</td>\n      <td>5774.0</td>\n      <td>83.0</td>\n      <td>NaN</td>\n      <td>Мира 14</td>\n    </tr>\n    <tr>\n      <th>4</th>\n      <td>115</td>\n      <td>981.0</td>\n      <td>912.0</td>\n      <td>81.0</td>\n      <td>ЗЖБИиДК 1</td>\n    </tr>\n    <tr>\n      <th>5</th>\n      <td>116</td>\n      <td>NaN</td>\n      <td>4834.0</td>\n      <td>4.0</td>\n      <td>Строителей 18</td>\n    </tr>\n    <tr>\n      <th>6</th>\n      <td>117</td>\n      <td>NaN</td>\n      <td>98.0</td>\n      <td>13.0</td>\n      <td>Панфиловская 33</td>\n    </tr>\n    <tr>\n      <th>7</th>\n      <td>118</td>\n      <td>NaN</td>\n      <td>NaN</td>\n      <td>173.0</td>\n      <td>Мастеркова 4</td>\n    </tr>\n  </tbody>\n</table>\n</div>"
     },
     "execution_count": 142,
     "metadata": {},
     "output_type": "execute_result"
    }
   ],
   "source": [
    "rzd.merge(auto, how='outer',on='client_id').merge(air, how='outer',on='client_id').merge(client_base)"
   ],
   "metadata": {
    "collapsed": false,
    "ExecuteTime": {
     "end_time": "2023-12-03T15:45:21.768089800Z",
     "start_time": "2023-12-03T15:45:21.750907600Z"
    }
   },
   "id": "a02b8e46413d5d5d"
  }
 ],
 "metadata": {
  "kernelspec": {
   "display_name": "Python 3",
   "language": "python",
   "name": "python3"
  },
  "language_info": {
   "codemirror_mode": {
    "name": "ipython",
    "version": 2
   },
   "file_extension": ".py",
   "mimetype": "text/x-python",
   "name": "python",
   "nbconvert_exporter": "python",
   "pygments_lexer": "ipython2",
   "version": "2.7.6"
  }
 },
 "nbformat": 4,
 "nbformat_minor": 5
}
